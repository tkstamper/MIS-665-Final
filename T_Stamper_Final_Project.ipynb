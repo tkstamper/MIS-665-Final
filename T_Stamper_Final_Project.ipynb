{
 "cells": [
  {
   "cell_type": "markdown",
   "metadata": {
    "slideshow": {
     "slide_type": "skip"
    }
   },
   "source": [
    "Tim Stamper - \"On my honor, as a student, I have neither given nor received unauthorized aid on this academic work.\"\n"
   ]
  },
  {
   "cell_type": "markdown",
   "metadata": {
    "slideshow": {
     "slide_type": "skip"
    }
   },
   "source": [
    "# Previous Findings (Midterm Project Simplified)"
   ]
  },
  {
   "cell_type": "markdown",
   "metadata": {
    "heading_collapsed": true,
    "slideshow": {
     "slide_type": "skip"
    }
   },
   "source": [
    "## 1. Import Packages "
   ]
  },
  {
   "cell_type": "code",
   "execution_count": 287,
   "metadata": {
    "ExecuteTime": {
     "end_time": "2019-12-10T22:21:35.098523Z",
     "start_time": "2019-12-10T22:21:22.140254Z"
    },
    "hidden": true,
    "slideshow": {
     "slide_type": "skip"
    }
   },
   "outputs": [],
   "source": [
    "import pandas as pd\n",
    "import numpy as np\n",
    "from scipy import stats\n",
    "import matplotlib.pyplot as plt\n",
    "%matplotlib inline\n",
    "\n",
    "from pandas.plotting import scatter_matrix\n",
    "\n",
    "import pingouin as pg\n",
    "\n",
    "import seaborn as sns"
   ]
  },
  {
   "cell_type": "markdown",
   "metadata": {
    "heading_collapsed": true,
    "slideshow": {
     "slide_type": "skip"
    }
   },
   "source": [
    "## 2. Preview Data "
   ]
  },
  {
   "cell_type": "code",
   "execution_count": 239,
   "metadata": {
    "ExecuteTime": {
     "end_time": "2019-12-10T22:22:27.716235Z",
     "start_time": "2019-12-10T22:22:27.594175Z"
    },
    "hidden": true,
    "slideshow": {
     "slide_type": "skip"
    }
   },
   "outputs": [
    {
     "data": {
      "text/html": [
       "<div>\n",
       "<style scoped>\n",
       "    .dataframe tbody tr th:only-of-type {\n",
       "        vertical-align: middle;\n",
       "    }\n",
       "\n",
       "    .dataframe tbody tr th {\n",
       "        vertical-align: top;\n",
       "    }\n",
       "\n",
       "    .dataframe thead th {\n",
       "        text-align: right;\n",
       "    }\n",
       "</style>\n",
       "<table border=\"1\" class=\"dataframe\">\n",
       "  <thead>\n",
       "    <tr style=\"text-align: right;\">\n",
       "      <th></th>\n",
       "      <th>color</th>\n",
       "      <th>director_name</th>\n",
       "      <th>num_critic_for_reviews</th>\n",
       "      <th>duration</th>\n",
       "      <th>director_facebook_likes</th>\n",
       "      <th>actor_3_facebook_likes</th>\n",
       "      <th>actor_2_name</th>\n",
       "      <th>actor_1_facebook_likes</th>\n",
       "      <th>gross</th>\n",
       "      <th>genres</th>\n",
       "      <th>...</th>\n",
       "      <th>num_user_for_reviews</th>\n",
       "      <th>language</th>\n",
       "      <th>country</th>\n",
       "      <th>content_rating</th>\n",
       "      <th>budget</th>\n",
       "      <th>title_year</th>\n",
       "      <th>actor_2_facebook_likes</th>\n",
       "      <th>imdb_score</th>\n",
       "      <th>aspect_ratio</th>\n",
       "      <th>movie_facebook_likes</th>\n",
       "    </tr>\n",
       "  </thead>\n",
       "  <tbody>\n",
       "    <tr>\n",
       "      <th>0</th>\n",
       "      <td>Color</td>\n",
       "      <td>James Cameron</td>\n",
       "      <td>723.0</td>\n",
       "      <td>178.0</td>\n",
       "      <td>0.0</td>\n",
       "      <td>855.0</td>\n",
       "      <td>Joel David Moore</td>\n",
       "      <td>1000.0</td>\n",
       "      <td>760505847.0</td>\n",
       "      <td>Action|Adventure|Fantasy|Sci-Fi</td>\n",
       "      <td>...</td>\n",
       "      <td>3054.0</td>\n",
       "      <td>English</td>\n",
       "      <td>USA</td>\n",
       "      <td>PG-13</td>\n",
       "      <td>237000000.0</td>\n",
       "      <td>2009.0</td>\n",
       "      <td>936.0</td>\n",
       "      <td>7.9</td>\n",
       "      <td>1.78</td>\n",
       "      <td>33000</td>\n",
       "    </tr>\n",
       "    <tr>\n",
       "      <th>1</th>\n",
       "      <td>Color</td>\n",
       "      <td>Gore Verbinski</td>\n",
       "      <td>302.0</td>\n",
       "      <td>169.0</td>\n",
       "      <td>563.0</td>\n",
       "      <td>1000.0</td>\n",
       "      <td>Orlando Bloom</td>\n",
       "      <td>40000.0</td>\n",
       "      <td>309404152.0</td>\n",
       "      <td>Action|Adventure|Fantasy</td>\n",
       "      <td>...</td>\n",
       "      <td>1238.0</td>\n",
       "      <td>English</td>\n",
       "      <td>USA</td>\n",
       "      <td>PG-13</td>\n",
       "      <td>300000000.0</td>\n",
       "      <td>2007.0</td>\n",
       "      <td>5000.0</td>\n",
       "      <td>7.1</td>\n",
       "      <td>2.35</td>\n",
       "      <td>0</td>\n",
       "    </tr>\n",
       "    <tr>\n",
       "      <th>2</th>\n",
       "      <td>Color</td>\n",
       "      <td>Sam Mendes</td>\n",
       "      <td>602.0</td>\n",
       "      <td>148.0</td>\n",
       "      <td>0.0</td>\n",
       "      <td>161.0</td>\n",
       "      <td>Rory Kinnear</td>\n",
       "      <td>11000.0</td>\n",
       "      <td>200074175.0</td>\n",
       "      <td>Action|Adventure|Thriller</td>\n",
       "      <td>...</td>\n",
       "      <td>994.0</td>\n",
       "      <td>English</td>\n",
       "      <td>UK</td>\n",
       "      <td>PG-13</td>\n",
       "      <td>245000000.0</td>\n",
       "      <td>2015.0</td>\n",
       "      <td>393.0</td>\n",
       "      <td>6.8</td>\n",
       "      <td>2.35</td>\n",
       "      <td>85000</td>\n",
       "    </tr>\n",
       "    <tr>\n",
       "      <th>3</th>\n",
       "      <td>Color</td>\n",
       "      <td>Christopher Nolan</td>\n",
       "      <td>813.0</td>\n",
       "      <td>164.0</td>\n",
       "      <td>22000.0</td>\n",
       "      <td>23000.0</td>\n",
       "      <td>Christian Bale</td>\n",
       "      <td>27000.0</td>\n",
       "      <td>448130642.0</td>\n",
       "      <td>Action|Thriller</td>\n",
       "      <td>...</td>\n",
       "      <td>2701.0</td>\n",
       "      <td>English</td>\n",
       "      <td>USA</td>\n",
       "      <td>PG-13</td>\n",
       "      <td>250000000.0</td>\n",
       "      <td>2012.0</td>\n",
       "      <td>23000.0</td>\n",
       "      <td>8.5</td>\n",
       "      <td>2.35</td>\n",
       "      <td>164000</td>\n",
       "    </tr>\n",
       "    <tr>\n",
       "      <th>4</th>\n",
       "      <td>NaN</td>\n",
       "      <td>Doug Walker</td>\n",
       "      <td>NaN</td>\n",
       "      <td>NaN</td>\n",
       "      <td>131.0</td>\n",
       "      <td>NaN</td>\n",
       "      <td>Rob Walker</td>\n",
       "      <td>131.0</td>\n",
       "      <td>NaN</td>\n",
       "      <td>Documentary</td>\n",
       "      <td>...</td>\n",
       "      <td>NaN</td>\n",
       "      <td>NaN</td>\n",
       "      <td>NaN</td>\n",
       "      <td>NaN</td>\n",
       "      <td>NaN</td>\n",
       "      <td>NaN</td>\n",
       "      <td>12.0</td>\n",
       "      <td>7.1</td>\n",
       "      <td>NaN</td>\n",
       "      <td>0</td>\n",
       "    </tr>\n",
       "  </tbody>\n",
       "</table>\n",
       "<p>5 rows × 28 columns</p>\n",
       "</div>"
      ],
      "text/plain": [
       "   color      director_name  num_critic_for_reviews  duration  \\\n",
       "0  Color      James Cameron                   723.0     178.0   \n",
       "1  Color     Gore Verbinski                   302.0     169.0   \n",
       "2  Color         Sam Mendes                   602.0     148.0   \n",
       "3  Color  Christopher Nolan                   813.0     164.0   \n",
       "4    NaN        Doug Walker                     NaN       NaN   \n",
       "\n",
       "   director_facebook_likes  actor_3_facebook_likes      actor_2_name  \\\n",
       "0                      0.0                   855.0  Joel David Moore   \n",
       "1                    563.0                  1000.0     Orlando Bloom   \n",
       "2                      0.0                   161.0      Rory Kinnear   \n",
       "3                  22000.0                 23000.0    Christian Bale   \n",
       "4                    131.0                     NaN        Rob Walker   \n",
       "\n",
       "   actor_1_facebook_likes        gross                           genres  ...  \\\n",
       "0                  1000.0  760505847.0  Action|Adventure|Fantasy|Sci-Fi  ...   \n",
       "1                 40000.0  309404152.0         Action|Adventure|Fantasy  ...   \n",
       "2                 11000.0  200074175.0        Action|Adventure|Thriller  ...   \n",
       "3                 27000.0  448130642.0                  Action|Thriller  ...   \n",
       "4                   131.0          NaN                      Documentary  ...   \n",
       "\n",
       "  num_user_for_reviews language  country  content_rating       budget  \\\n",
       "0               3054.0  English      USA           PG-13  237000000.0   \n",
       "1               1238.0  English      USA           PG-13  300000000.0   \n",
       "2                994.0  English       UK           PG-13  245000000.0   \n",
       "3               2701.0  English      USA           PG-13  250000000.0   \n",
       "4                  NaN      NaN      NaN             NaN          NaN   \n",
       "\n",
       "   title_year actor_2_facebook_likes imdb_score  aspect_ratio  \\\n",
       "0      2009.0                  936.0        7.9          1.78   \n",
       "1      2007.0                 5000.0        7.1          2.35   \n",
       "2      2015.0                  393.0        6.8          2.35   \n",
       "3      2012.0                23000.0        8.5          2.35   \n",
       "4         NaN                   12.0        7.1           NaN   \n",
       "\n",
       "  movie_facebook_likes  \n",
       "0                33000  \n",
       "1                    0  \n",
       "2                85000  \n",
       "3               164000  \n",
       "4                    0  \n",
       "\n",
       "[5 rows x 28 columns]"
      ]
     },
     "execution_count": 239,
     "metadata": {},
     "output_type": "execute_result"
    }
   ],
   "source": [
    "df = pd.read_csv('data/movie_metadata.csv')\n",
    "df.head()"
   ]
  },
  {
   "cell_type": "code",
   "execution_count": 288,
   "metadata": {
    "ExecuteTime": {
     "end_time": "2019-12-10T22:22:43.970684Z",
     "start_time": "2019-12-10T22:22:43.961705Z"
    },
    "hidden": true,
    "slideshow": {
     "slide_type": "skip"
    }
   },
   "outputs": [
    {
     "data": {
      "text/plain": [
       "5043"
      ]
     },
     "execution_count": 288,
     "metadata": {},
     "output_type": "execute_result"
    }
   ],
   "source": [
    "len(df)"
   ]
  },
  {
   "cell_type": "code",
   "execution_count": 240,
   "metadata": {
    "ExecuteTime": {
     "end_time": "2019-12-10T22:22:54.358738Z",
     "start_time": "2019-12-10T22:22:54.335577Z"
    },
    "hidden": true,
    "slideshow": {
     "slide_type": "skip"
    }
   },
   "outputs": [
    {
     "name": "stdout",
     "output_type": "stream",
     "text": [
      "<class 'pandas.core.frame.DataFrame'>\n",
      "RangeIndex: 5043 entries, 0 to 5042\n",
      "Data columns (total 28 columns):\n",
      "color                        5024 non-null object\n",
      "director_name                4939 non-null object\n",
      "num_critic_for_reviews       4993 non-null float64\n",
      "duration                     5028 non-null float64\n",
      "director_facebook_likes      4939 non-null float64\n",
      "actor_3_facebook_likes       5020 non-null float64\n",
      "actor_2_name                 5030 non-null object\n",
      "actor_1_facebook_likes       5036 non-null float64\n",
      "gross                        4159 non-null float64\n",
      "genres                       5043 non-null object\n",
      "actor_1_name                 5036 non-null object\n",
      "movie_title                  5043 non-null object\n",
      "num_voted_users              5043 non-null int64\n",
      "cast_total_facebook_likes    5043 non-null int64\n",
      "actor_3_name                 5020 non-null object\n",
      "facenumber_in_poster         5030 non-null float64\n",
      "plot_keywords                4890 non-null object\n",
      "movie_imdb_link              5043 non-null object\n",
      "num_user_for_reviews         5022 non-null float64\n",
      "language                     5031 non-null object\n",
      "country                      5038 non-null object\n",
      "content_rating               4740 non-null object\n",
      "budget                       4551 non-null float64\n",
      "title_year                   4935 non-null float64\n",
      "actor_2_facebook_likes       5030 non-null float64\n",
      "imdb_score                   5043 non-null float64\n",
      "aspect_ratio                 4714 non-null float64\n",
      "movie_facebook_likes         5043 non-null int64\n",
      "dtypes: float64(13), int64(3), object(12)\n",
      "memory usage: 1.1+ MB\n"
     ]
    }
   ],
   "source": [
    "df.info()"
   ]
  },
  {
   "cell_type": "markdown",
   "metadata": {
    "heading_collapsed": true,
    "slideshow": {
     "slide_type": "skip"
    }
   },
   "source": [
    "## 3. Data Preperation "
   ]
  },
  {
   "cell_type": "code",
   "execution_count": 241,
   "metadata": {
    "ExecuteTime": {
     "end_time": "2019-12-10T22:24:18.934896Z",
     "start_time": "2019-12-10T22:24:18.873018Z"
    },
    "hidden": true,
    "slideshow": {
     "slide_type": "skip"
    }
   },
   "outputs": [
    {
     "data": {
      "text/html": [
       "<div>\n",
       "<style scoped>\n",
       "    .dataframe tbody tr th:only-of-type {\n",
       "        vertical-align: middle;\n",
       "    }\n",
       "\n",
       "    .dataframe tbody tr th {\n",
       "        vertical-align: top;\n",
       "    }\n",
       "\n",
       "    .dataframe thead th {\n",
       "        text-align: right;\n",
       "    }\n",
       "</style>\n",
       "<table border=\"1\" class=\"dataframe\">\n",
       "  <thead>\n",
       "    <tr style=\"text-align: right;\">\n",
       "      <th></th>\n",
       "      <th>color</th>\n",
       "      <th>director_name</th>\n",
       "      <th>num_critic_for_reviews</th>\n",
       "      <th>duration</th>\n",
       "      <th>director_facebook_likes</th>\n",
       "      <th>actor_3_facebook_likes</th>\n",
       "      <th>actor_2_name</th>\n",
       "      <th>actor_1_facebook_likes</th>\n",
       "      <th>gross</th>\n",
       "      <th>genres</th>\n",
       "      <th>...</th>\n",
       "      <th>plot_keywords</th>\n",
       "      <th>num_user_for_reviews</th>\n",
       "      <th>language</th>\n",
       "      <th>country</th>\n",
       "      <th>content_rating</th>\n",
       "      <th>budget</th>\n",
       "      <th>title_year</th>\n",
       "      <th>actor_2_facebook_likes</th>\n",
       "      <th>imdb_score</th>\n",
       "      <th>movie_facebook_likes</th>\n",
       "    </tr>\n",
       "  </thead>\n",
       "  <tbody>\n",
       "    <tr>\n",
       "      <th>0</th>\n",
       "      <td>Color</td>\n",
       "      <td>James Cameron</td>\n",
       "      <td>723.0</td>\n",
       "      <td>178.0</td>\n",
       "      <td>0.0</td>\n",
       "      <td>855.0</td>\n",
       "      <td>Joel David Moore</td>\n",
       "      <td>1000.0</td>\n",
       "      <td>760505847.0</td>\n",
       "      <td>Action|Adventure|Fantasy|Sci-Fi</td>\n",
       "      <td>...</td>\n",
       "      <td>avatar|future|marine|native|paraplegic</td>\n",
       "      <td>3054.0</td>\n",
       "      <td>English</td>\n",
       "      <td>USA</td>\n",
       "      <td>PG-13</td>\n",
       "      <td>237000000.0</td>\n",
       "      <td>2009.0</td>\n",
       "      <td>936.0</td>\n",
       "      <td>7.9</td>\n",
       "      <td>33000</td>\n",
       "    </tr>\n",
       "    <tr>\n",
       "      <th>1</th>\n",
       "      <td>Color</td>\n",
       "      <td>Gore Verbinski</td>\n",
       "      <td>302.0</td>\n",
       "      <td>169.0</td>\n",
       "      <td>563.0</td>\n",
       "      <td>1000.0</td>\n",
       "      <td>Orlando Bloom</td>\n",
       "      <td>40000.0</td>\n",
       "      <td>309404152.0</td>\n",
       "      <td>Action|Adventure|Fantasy</td>\n",
       "      <td>...</td>\n",
       "      <td>goddess|marriage ceremony|marriage proposal|pi...</td>\n",
       "      <td>1238.0</td>\n",
       "      <td>English</td>\n",
       "      <td>USA</td>\n",
       "      <td>PG-13</td>\n",
       "      <td>300000000.0</td>\n",
       "      <td>2007.0</td>\n",
       "      <td>5000.0</td>\n",
       "      <td>7.1</td>\n",
       "      <td>0</td>\n",
       "    </tr>\n",
       "    <tr>\n",
       "      <th>2</th>\n",
       "      <td>Color</td>\n",
       "      <td>Sam Mendes</td>\n",
       "      <td>602.0</td>\n",
       "      <td>148.0</td>\n",
       "      <td>0.0</td>\n",
       "      <td>161.0</td>\n",
       "      <td>Rory Kinnear</td>\n",
       "      <td>11000.0</td>\n",
       "      <td>200074175.0</td>\n",
       "      <td>Action|Adventure|Thriller</td>\n",
       "      <td>...</td>\n",
       "      <td>bomb|espionage|sequel|spy|terrorist</td>\n",
       "      <td>994.0</td>\n",
       "      <td>English</td>\n",
       "      <td>UK</td>\n",
       "      <td>PG-13</td>\n",
       "      <td>245000000.0</td>\n",
       "      <td>2015.0</td>\n",
       "      <td>393.0</td>\n",
       "      <td>6.8</td>\n",
       "      <td>85000</td>\n",
       "    </tr>\n",
       "    <tr>\n",
       "      <th>3</th>\n",
       "      <td>Color</td>\n",
       "      <td>Christopher Nolan</td>\n",
       "      <td>813.0</td>\n",
       "      <td>164.0</td>\n",
       "      <td>22000.0</td>\n",
       "      <td>23000.0</td>\n",
       "      <td>Christian Bale</td>\n",
       "      <td>27000.0</td>\n",
       "      <td>448130642.0</td>\n",
       "      <td>Action|Thriller</td>\n",
       "      <td>...</td>\n",
       "      <td>deception|imprisonment|lawlessness|police offi...</td>\n",
       "      <td>2701.0</td>\n",
       "      <td>English</td>\n",
       "      <td>USA</td>\n",
       "      <td>PG-13</td>\n",
       "      <td>250000000.0</td>\n",
       "      <td>2012.0</td>\n",
       "      <td>23000.0</td>\n",
       "      <td>8.5</td>\n",
       "      <td>164000</td>\n",
       "    </tr>\n",
       "    <tr>\n",
       "      <th>4</th>\n",
       "      <td>NaN</td>\n",
       "      <td>Doug Walker</td>\n",
       "      <td>NaN</td>\n",
       "      <td>NaN</td>\n",
       "      <td>131.0</td>\n",
       "      <td>NaN</td>\n",
       "      <td>Rob Walker</td>\n",
       "      <td>131.0</td>\n",
       "      <td>NaN</td>\n",
       "      <td>Documentary</td>\n",
       "      <td>...</td>\n",
       "      <td>NaN</td>\n",
       "      <td>NaN</td>\n",
       "      <td>NaN</td>\n",
       "      <td>NaN</td>\n",
       "      <td>NaN</td>\n",
       "      <td>NaN</td>\n",
       "      <td>NaN</td>\n",
       "      <td>12.0</td>\n",
       "      <td>7.1</td>\n",
       "      <td>0</td>\n",
       "    </tr>\n",
       "  </tbody>\n",
       "</table>\n",
       "<p>5 rows × 26 columns</p>\n",
       "</div>"
      ],
      "text/plain": [
       "   color      director_name  num_critic_for_reviews  duration  \\\n",
       "0  Color      James Cameron                   723.0     178.0   \n",
       "1  Color     Gore Verbinski                   302.0     169.0   \n",
       "2  Color         Sam Mendes                   602.0     148.0   \n",
       "3  Color  Christopher Nolan                   813.0     164.0   \n",
       "4    NaN        Doug Walker                     NaN       NaN   \n",
       "\n",
       "   director_facebook_likes  actor_3_facebook_likes      actor_2_name  \\\n",
       "0                      0.0                   855.0  Joel David Moore   \n",
       "1                    563.0                  1000.0     Orlando Bloom   \n",
       "2                      0.0                   161.0      Rory Kinnear   \n",
       "3                  22000.0                 23000.0    Christian Bale   \n",
       "4                    131.0                     NaN        Rob Walker   \n",
       "\n",
       "   actor_1_facebook_likes        gross                           genres  ...  \\\n",
       "0                  1000.0  760505847.0  Action|Adventure|Fantasy|Sci-Fi  ...   \n",
       "1                 40000.0  309404152.0         Action|Adventure|Fantasy  ...   \n",
       "2                 11000.0  200074175.0        Action|Adventure|Thriller  ...   \n",
       "3                 27000.0  448130642.0                  Action|Thriller  ...   \n",
       "4                   131.0          NaN                      Documentary  ...   \n",
       "\n",
       "                                       plot_keywords num_user_for_reviews  \\\n",
       "0             avatar|future|marine|native|paraplegic               3054.0   \n",
       "1  goddess|marriage ceremony|marriage proposal|pi...               1238.0   \n",
       "2                bomb|espionage|sequel|spy|terrorist                994.0   \n",
       "3  deception|imprisonment|lawlessness|police offi...               2701.0   \n",
       "4                                                NaN                  NaN   \n",
       "\n",
       "   language  country content_rating       budget title_year  \\\n",
       "0   English      USA          PG-13  237000000.0     2009.0   \n",
       "1   English      USA          PG-13  300000000.0     2007.0   \n",
       "2   English       UK          PG-13  245000000.0     2015.0   \n",
       "3   English      USA          PG-13  250000000.0     2012.0   \n",
       "4       NaN      NaN            NaN          NaN        NaN   \n",
       "\n",
       "   actor_2_facebook_likes imdb_score movie_facebook_likes  \n",
       "0                   936.0        7.9                33000  \n",
       "1                  5000.0        7.1                    0  \n",
       "2                   393.0        6.8                85000  \n",
       "3                 23000.0        8.5               164000  \n",
       "4                    12.0        7.1                    0  \n",
       "\n",
       "[5 rows x 26 columns]"
      ]
     },
     "execution_count": 241,
     "metadata": {},
     "output_type": "execute_result"
    }
   ],
   "source": [
    "# Removing uneeded columns\n",
    "df1 = df.drop(['aspect_ratio','movie_imdb_link'], axis=1)\n",
    "df1.head()"
   ]
  },
  {
   "cell_type": "code",
   "execution_count": 242,
   "metadata": {
    "ExecuteTime": {
     "end_time": "2019-12-10T22:24:19.906314Z",
     "start_time": "2019-12-10T22:24:19.887243Z"
    },
    "hidden": true,
    "slideshow": {
     "slide_type": "skip"
    }
   },
   "outputs": [
    {
     "data": {
      "text/plain": [
       "3804"
      ]
     },
     "execution_count": 242,
     "metadata": {},
     "output_type": "execute_result"
    }
   ],
   "source": [
    "# Dropping incomplete data\n",
    "dfCom = df1.dropna()\n",
    "len(dfCom)"
   ]
  },
  {
   "cell_type": "code",
   "execution_count": 243,
   "metadata": {
    "ExecuteTime": {
     "end_time": "2019-12-10T22:24:47.505526Z",
     "start_time": "2019-12-10T22:24:47.463069Z"
    },
    "hidden": true,
    "slideshow": {
     "slide_type": "skip"
    }
   },
   "outputs": [
    {
     "name": "stderr",
     "output_type": "stream",
     "text": [
      "C:\\Users\\Timot\\Anaconda3\\lib\\site-packages\\ipykernel_launcher.py:2: SettingWithCopyWarning: \n",
      "A value is trying to be set on a copy of a slice from a DataFrame.\n",
      "Try using .loc[row_indexer,col_indexer] = value instead\n",
      "\n",
      "See the caveats in the documentation: http://pandas.pydata.org/pandas-docs/stable/indexing.html#indexing-view-versus-copy\n",
      "  \n"
     ]
    }
   ],
   "source": [
    "# Creating column for proift \n",
    "dfCom['profit'] = dfCom['gross'] - dfCom['budget']"
   ]
  },
  {
   "cell_type": "markdown",
   "metadata": {
    "heading_collapsed": true,
    "slideshow": {
     "slide_type": "skip"
    }
   },
   "source": [
    "## 4. Business Intelligence "
   ]
  },
  {
   "cell_type": "code",
   "execution_count": 244,
   "metadata": {
    "ExecuteTime": {
     "end_time": "2019-12-10T22:26:32.540798Z",
     "start_time": "2019-12-10T22:26:32.528794Z"
    },
    "hidden": true,
    "slideshow": {
     "slide_type": "skip"
    }
   },
   "outputs": [
    {
     "data": {
      "text/plain": [
       "count    3804.000000\n",
       "mean        6.462461\n",
       "std         1.056585\n",
       "min         1.600000\n",
       "25%         5.900000\n",
       "50%         6.600000\n",
       "75%         7.200000\n",
       "max         9.300000\n",
       "Name: imdb_score, dtype: float64"
      ]
     },
     "execution_count": 244,
     "metadata": {},
     "output_type": "execute_result"
    }
   ],
   "source": [
    "# How are scores distributed \n",
    "dfCom['imdb_score'].describe()"
   ]
  },
  {
   "cell_type": "code",
   "execution_count": 245,
   "metadata": {
    "ExecuteTime": {
     "end_time": "2019-12-10T22:27:08.335163Z",
     "start_time": "2019-12-10T22:27:08.322904Z"
    },
    "hidden": true,
    "slideshow": {
     "slide_type": "skip"
    }
   },
   "outputs": [
    {
     "data": {
      "text/plain": [
       "language\n",
       "Aboriginal       2\n",
       "Arabic           1\n",
       "Aramaic          1\n",
       "Bosnian          1\n",
       "Cantonese        7\n",
       "Czech            1\n",
       "Danish           3\n",
       "Dari             2\n",
       "Dutch            3\n",
       "English       3645\n",
       "Filipino         1\n",
       "French          34\n",
       "German          10\n",
       "Hebrew           2\n",
       "Hindi            5\n",
       "Hungarian        1\n",
       "Indonesian       2\n",
       "Italian          7\n",
       "Japanese        10\n",
       "Kazakh           1\n",
       "Korean           5\n",
       "Mandarin        15\n",
       "Maya             1\n",
       "Mongolian        1\n",
       "None             1\n",
       "Norwegian        4\n",
       "Persian          3\n",
       "Portuguese       5\n",
       "Romanian         1\n",
       "Russian          1\n",
       "Spanish         23\n",
       "Thai             3\n",
       "Vietnamese       1\n",
       "Zulu             1\n",
       "dtype: int64"
      ]
     },
     "execution_count": 245,
     "metadata": {},
     "output_type": "execute_result"
    }
   ],
   "source": [
    "# Most popular languages \n",
    "dfCom.groupby('language').size()"
   ]
  },
  {
   "cell_type": "code",
   "execution_count": 246,
   "metadata": {
    "ExecuteTime": {
     "end_time": "2019-12-10T22:27:26.514289Z",
     "start_time": "2019-12-10T22:27:26.495878Z"
    },
    "hidden": true,
    "slideshow": {
     "slide_type": "skip"
    }
   },
   "outputs": [
    {
     "data": {
      "text/html": [
       "<div>\n",
       "<style scoped>\n",
       "    .dataframe tbody tr th:only-of-type {\n",
       "        vertical-align: middle;\n",
       "    }\n",
       "\n",
       "    .dataframe tbody tr th {\n",
       "        vertical-align: top;\n",
       "    }\n",
       "\n",
       "    .dataframe thead th {\n",
       "        text-align: right;\n",
       "    }\n",
       "</style>\n",
       "<table border=\"1\" class=\"dataframe\">\n",
       "  <thead>\n",
       "    <tr style=\"text-align: right;\">\n",
       "      <th></th>\n",
       "      <th>movie_title</th>\n",
       "      <th>imdb_score</th>\n",
       "    </tr>\n",
       "  </thead>\n",
       "  <tbody>\n",
       "    <tr>\n",
       "      <th>1937</th>\n",
       "      <td>The Shawshank Redemption</td>\n",
       "      <td>9.3</td>\n",
       "    </tr>\n",
       "    <tr>\n",
       "      <th>3466</th>\n",
       "      <td>The Godfather</td>\n",
       "      <td>9.2</td>\n",
       "    </tr>\n",
       "    <tr>\n",
       "      <th>66</th>\n",
       "      <td>The Dark Knight</td>\n",
       "      <td>9.0</td>\n",
       "    </tr>\n",
       "    <tr>\n",
       "      <th>2837</th>\n",
       "      <td>The Godfather: Part II</td>\n",
       "      <td>9.0</td>\n",
       "    </tr>\n",
       "    <tr>\n",
       "      <th>1874</th>\n",
       "      <td>Schindler's List</td>\n",
       "      <td>8.9</td>\n",
       "    </tr>\n",
       "    <tr>\n",
       "      <th>4498</th>\n",
       "      <td>The Good, the Bad and the Ugly</td>\n",
       "      <td>8.9</td>\n",
       "    </tr>\n",
       "    <tr>\n",
       "      <th>3355</th>\n",
       "      <td>Pulp Fiction</td>\n",
       "      <td>8.9</td>\n",
       "    </tr>\n",
       "    <tr>\n",
       "      <th>339</th>\n",
       "      <td>The Lord of the Rings: The Return of the King</td>\n",
       "      <td>8.9</td>\n",
       "    </tr>\n",
       "    <tr>\n",
       "      <th>97</th>\n",
       "      <td>Inception</td>\n",
       "      <td>8.8</td>\n",
       "    </tr>\n",
       "    <tr>\n",
       "      <th>683</th>\n",
       "      <td>Fight Club</td>\n",
       "      <td>8.8</td>\n",
       "    </tr>\n",
       "  </tbody>\n",
       "</table>\n",
       "</div>"
      ],
      "text/plain": [
       "                                         movie_title  imdb_score\n",
       "1937                       The Shawshank Redemption          9.3\n",
       "3466                                  The Godfather          9.2\n",
       "66                                  The Dark Knight          9.0\n",
       "2837                         The Godfather: Part II          9.0\n",
       "1874                               Schindler's List          8.9\n",
       "4498                 The Good, the Bad and the Ugly          8.9\n",
       "3355                                   Pulp Fiction          8.9\n",
       "339   The Lord of the Rings: The Return of the King          8.9\n",
       "97                                        Inception          8.8\n",
       "683                                      Fight Club          8.8"
      ]
     },
     "execution_count": 246,
     "metadata": {},
     "output_type": "execute_result"
    }
   ],
   "source": [
    "# Top Films \n",
    "IMDBtop = dfCom.sort_values('imdb_score', ascending=False).head(25)\n",
    "IMDBtop1 = IMDBtop[['movie_title', 'imdb_score']]\n",
    "IMDBtop1.head(10)"
   ]
  },
  {
   "cell_type": "code",
   "execution_count": 247,
   "metadata": {
    "ExecuteTime": {
     "end_time": "2019-12-10T22:27:41.417055Z",
     "start_time": "2019-12-10T22:27:41.389090Z"
    },
    "hidden": true,
    "slideshow": {
     "slide_type": "skip"
    }
   },
   "outputs": [
    {
     "data": {
      "text/html": [
       "<div>\n",
       "<style scoped>\n",
       "    .dataframe tbody tr th:only-of-type {\n",
       "        vertical-align: middle;\n",
       "    }\n",
       "\n",
       "    .dataframe tbody tr th {\n",
       "        vertical-align: top;\n",
       "    }\n",
       "\n",
       "    .dataframe thead th {\n",
       "        text-align: right;\n",
       "    }\n",
       "</style>\n",
       "<table border=\"1\" class=\"dataframe\">\n",
       "  <thead>\n",
       "    <tr style=\"text-align: right;\">\n",
       "      <th></th>\n",
       "      <th>movie_title</th>\n",
       "      <th>imdb_score</th>\n",
       "    </tr>\n",
       "  </thead>\n",
       "  <tbody>\n",
       "    <tr>\n",
       "      <th>2834</th>\n",
       "      <td>Justin Bieber: Never Say Never</td>\n",
       "      <td>1.6</td>\n",
       "    </tr>\n",
       "    <tr>\n",
       "      <th>2268</th>\n",
       "      <td>Disaster Movie</td>\n",
       "      <td>1.9</td>\n",
       "    </tr>\n",
       "    <tr>\n",
       "      <th>2295</th>\n",
       "      <td>Superbabies: Baby Geniuses 2</td>\n",
       "      <td>1.9</td>\n",
       "    </tr>\n",
       "    <tr>\n",
       "      <th>3505</th>\n",
       "      <td>Who's Your Caddy?</td>\n",
       "      <td>2.0</td>\n",
       "    </tr>\n",
       "    <tr>\n",
       "      <th>3340</th>\n",
       "      <td>Glitter</td>\n",
       "      <td>2.1</td>\n",
       "    </tr>\n",
       "    <tr>\n",
       "      <th>2983</th>\n",
       "      <td>From Justin to Kelly</td>\n",
       "      <td>2.1</td>\n",
       "    </tr>\n",
       "    <tr>\n",
       "      <th>3664</th>\n",
       "      <td>Crossover</td>\n",
       "      <td>2.1</td>\n",
       "    </tr>\n",
       "    <tr>\n",
       "      <th>319</th>\n",
       "      <td>Son of the Mask</td>\n",
       "      <td>2.2</td>\n",
       "    </tr>\n",
       "    <tr>\n",
       "      <th>2192</th>\n",
       "      <td>Epic Movie</td>\n",
       "      <td>2.3</td>\n",
       "    </tr>\n",
       "    <tr>\n",
       "      <th>2313</th>\n",
       "      <td>Alone in the Dark</td>\n",
       "      <td>2.3</td>\n",
       "    </tr>\n",
       "  </tbody>\n",
       "</table>\n",
       "</div>"
      ],
      "text/plain": [
       "                          movie_title  imdb_score\n",
       "2834  Justin Bieber: Never Say Never          1.6\n",
       "2268                  Disaster Movie          1.9\n",
       "2295    Superbabies: Baby Geniuses 2          1.9\n",
       "3505               Who's Your Caddy?          2.0\n",
       "3340                         Glitter          2.1\n",
       "2983            From Justin to Kelly          2.1\n",
       "3664                       Crossover          2.1\n",
       "319                  Son of the Mask          2.2\n",
       "2192                      Epic Movie          2.3\n",
       "2313               Alone in the Dark          2.3"
      ]
     },
     "execution_count": 247,
     "metadata": {},
     "output_type": "execute_result"
    }
   ],
   "source": [
    "# Worst films \n",
    "IMDBlow = dfCom.sort_values('imdb_score', ascending=True).head(25)\n",
    "IMDBlow1 = IMDBlow[['movie_title', 'imdb_score']]\n",
    "IMDBlow1.head(10)"
   ]
  },
  {
   "cell_type": "code",
   "execution_count": 248,
   "metadata": {
    "ExecuteTime": {
     "end_time": "2019-12-10T22:27:56.069279Z",
     "start_time": "2019-12-10T22:27:56.046771Z"
    },
    "hidden": true,
    "slideshow": {
     "slide_type": "skip"
    }
   },
   "outputs": [
    {
     "data": {
      "text/html": [
       "<div>\n",
       "<style scoped>\n",
       "    .dataframe tbody tr th:only-of-type {\n",
       "        vertical-align: middle;\n",
       "    }\n",
       "\n",
       "    .dataframe tbody tr th {\n",
       "        vertical-align: top;\n",
       "    }\n",
       "\n",
       "    .dataframe thead th {\n",
       "        text-align: right;\n",
       "    }\n",
       "</style>\n",
       "<table border=\"1\" class=\"dataframe\">\n",
       "  <thead>\n",
       "    <tr style=\"text-align: right;\">\n",
       "      <th></th>\n",
       "      <th>movie_title</th>\n",
       "      <th>profit</th>\n",
       "      <th>imdb_score</th>\n",
       "    </tr>\n",
       "  </thead>\n",
       "  <tbody>\n",
       "    <tr>\n",
       "      <th>0</th>\n",
       "      <td>Avatar</td>\n",
       "      <td>523505847.0</td>\n",
       "      <td>7.9</td>\n",
       "    </tr>\n",
       "    <tr>\n",
       "      <th>29</th>\n",
       "      <td>Jurassic World</td>\n",
       "      <td>502177271.0</td>\n",
       "      <td>7.0</td>\n",
       "    </tr>\n",
       "    <tr>\n",
       "      <th>26</th>\n",
       "      <td>Titanic</td>\n",
       "      <td>458672302.0</td>\n",
       "      <td>7.7</td>\n",
       "    </tr>\n",
       "    <tr>\n",
       "      <th>3024</th>\n",
       "      <td>Star Wars: Episode IV - A New Hope</td>\n",
       "      <td>449935665.0</td>\n",
       "      <td>8.7</td>\n",
       "    </tr>\n",
       "    <tr>\n",
       "      <th>3080</th>\n",
       "      <td>E.T. the Extra-Terrestrial</td>\n",
       "      <td>424449459.0</td>\n",
       "      <td>7.9</td>\n",
       "    </tr>\n",
       "    <tr>\n",
       "      <th>17</th>\n",
       "      <td>The Avengers</td>\n",
       "      <td>403279547.0</td>\n",
       "      <td>8.1</td>\n",
       "    </tr>\n",
       "    <tr>\n",
       "      <th>794</th>\n",
       "      <td>The Avengers</td>\n",
       "      <td>403279547.0</td>\n",
       "      <td>8.1</td>\n",
       "    </tr>\n",
       "    <tr>\n",
       "      <th>509</th>\n",
       "      <td>The Lion King</td>\n",
       "      <td>377783777.0</td>\n",
       "      <td>8.5</td>\n",
       "    </tr>\n",
       "    <tr>\n",
       "      <th>240</th>\n",
       "      <td>Star Wars: Episode I - The Phantom Menace</td>\n",
       "      <td>359544677.0</td>\n",
       "      <td>6.5</td>\n",
       "    </tr>\n",
       "    <tr>\n",
       "      <th>66</th>\n",
       "      <td>The Dark Knight</td>\n",
       "      <td>348316061.0</td>\n",
       "      <td>9.0</td>\n",
       "    </tr>\n",
       "  </tbody>\n",
       "</table>\n",
       "</div>"
      ],
      "text/plain": [
       "                                     movie_title       profit  imdb_score\n",
       "0                                        Avatar   523505847.0         7.9\n",
       "29                               Jurassic World   502177271.0         7.0\n",
       "26                                      Titanic   458672302.0         7.7\n",
       "3024         Star Wars: Episode IV - A New Hope   449935665.0         8.7\n",
       "3080                 E.T. the Extra-Terrestrial   424449459.0         7.9\n",
       "17                                 The Avengers   403279547.0         8.1\n",
       "794                                The Avengers   403279547.0         8.1\n",
       "509                               The Lion King   377783777.0         8.5\n",
       "240   Star Wars: Episode I - The Phantom Menace   359544677.0         6.5\n",
       "66                              The Dark Knight   348316061.0         9.0"
      ]
     },
     "execution_count": 248,
     "metadata": {},
     "output_type": "execute_result"
    }
   ],
   "source": [
    "# Top films in terms of profit \n",
    "IMDBprof = dfCom.sort_values('profit', ascending=False).head(25)\n",
    "IMDBprof1 = IMDBprof[['movie_title','profit', 'imdb_score']]\n",
    "IMDBprof1.head(10)"
   ]
  },
  {
   "cell_type": "code",
   "execution_count": 249,
   "metadata": {
    "ExecuteTime": {
     "end_time": "2019-12-10T22:28:15.262964Z",
     "start_time": "2019-12-10T22:28:15.239190Z"
    },
    "hidden": true,
    "slideshow": {
     "slide_type": "skip"
    }
   },
   "outputs": [
    {
     "data": {
      "text/html": [
       "<div>\n",
       "<style scoped>\n",
       "    .dataframe tbody tr th:only-of-type {\n",
       "        vertical-align: middle;\n",
       "    }\n",
       "\n",
       "    .dataframe tbody tr th {\n",
       "        vertical-align: top;\n",
       "    }\n",
       "\n",
       "    .dataframe thead th {\n",
       "        text-align: right;\n",
       "    }\n",
       "</style>\n",
       "<table border=\"1\" class=\"dataframe\">\n",
       "  <thead>\n",
       "    <tr style=\"text-align: right;\">\n",
       "      <th></th>\n",
       "      <th>movie_title</th>\n",
       "      <th>profit</th>\n",
       "      <th>imdb_score</th>\n",
       "    </tr>\n",
       "  </thead>\n",
       "  <tbody>\n",
       "    <tr>\n",
       "      <th>2988</th>\n",
       "      <td>The Host</td>\n",
       "      <td>-1.221330e+10</td>\n",
       "      <td>7.0</td>\n",
       "    </tr>\n",
       "    <tr>\n",
       "      <th>3859</th>\n",
       "      <td>Lady Vengeance</td>\n",
       "      <td>-4.199788e+09</td>\n",
       "      <td>7.7</td>\n",
       "    </tr>\n",
       "    <tr>\n",
       "      <th>3005</th>\n",
       "      <td>Fateless</td>\n",
       "      <td>-2.499804e+09</td>\n",
       "      <td>7.1</td>\n",
       "    </tr>\n",
       "    <tr>\n",
       "      <th>2323</th>\n",
       "      <td>Princess Mononoke</td>\n",
       "      <td>-2.397702e+09</td>\n",
       "      <td>8.4</td>\n",
       "    </tr>\n",
       "    <tr>\n",
       "      <th>2334</th>\n",
       "      <td>Steamboy</td>\n",
       "      <td>-2.127110e+09</td>\n",
       "      <td>6.9</td>\n",
       "    </tr>\n",
       "    <tr>\n",
       "      <th>3423</th>\n",
       "      <td>Akira</td>\n",
       "      <td>-1.099561e+09</td>\n",
       "      <td>8.1</td>\n",
       "    </tr>\n",
       "    <tr>\n",
       "      <th>4542</th>\n",
       "      <td>Godzilla 2000</td>\n",
       "      <td>-9.899626e+08</td>\n",
       "      <td>6.0</td>\n",
       "    </tr>\n",
       "    <tr>\n",
       "      <th>3851</th>\n",
       "      <td>Tango</td>\n",
       "      <td>-6.983127e+08</td>\n",
       "      <td>7.2</td>\n",
       "    </tr>\n",
       "    <tr>\n",
       "      <th>3075</th>\n",
       "      <td>Kabhi Alvida Naa Kehna</td>\n",
       "      <td>-6.967246e+08</td>\n",
       "      <td>6.0</td>\n",
       "    </tr>\n",
       "    <tr>\n",
       "      <th>1338</th>\n",
       "      <td>Red Cliff</td>\n",
       "      <td>-5.530052e+08</td>\n",
       "      <td>7.4</td>\n",
       "    </tr>\n",
       "  </tbody>\n",
       "</table>\n",
       "</div>"
      ],
      "text/plain": [
       "                  movie_title        profit  imdb_score\n",
       "2988                The Host  -1.221330e+10         7.0\n",
       "3859          Lady Vengeance  -4.199788e+09         7.7\n",
       "3005                Fateless  -2.499804e+09         7.1\n",
       "2323       Princess Mononoke  -2.397702e+09         8.4\n",
       "2334                Steamboy  -2.127110e+09         6.9\n",
       "3423                   Akira  -1.099561e+09         8.1\n",
       "4542           Godzilla 2000  -9.899626e+08         6.0\n",
       "3851                   Tango  -6.983127e+08         7.2\n",
       "3075  Kabhi Alvida Naa Kehna  -6.967246e+08         6.0\n",
       "1338               Red Cliff  -5.530052e+08         7.4"
      ]
     },
     "execution_count": 249,
     "metadata": {},
     "output_type": "execute_result"
    }
   ],
   "source": [
    "# Worst films in terms of profit \n",
    "IMDBloss = dfCom.sort_values('profit', ascending=True).head(25)\n",
    "IMDBloss1 = IMDBloss[['movie_title','profit', 'imdb_score']]\n",
    "IMDBloss1.head(10)"
   ]
  },
  {
   "cell_type": "markdown",
   "metadata": {
    "slideshow": {
     "slide_type": "skip"
    }
   },
   "source": [
    "## 5. Correlation Analysis"
   ]
  },
  {
   "cell_type": "code",
   "execution_count": 250,
   "metadata": {
    "ExecuteTime": {
     "end_time": "2019-12-10T22:29:10.997717Z",
     "start_time": "2019-12-10T22:29:10.943788Z"
    },
    "slideshow": {
     "slide_type": "skip"
    }
   },
   "outputs": [
    {
     "data": {
      "text/html": [
       "<div>\n",
       "<style scoped>\n",
       "    .dataframe tbody tr th:only-of-type {\n",
       "        vertical-align: middle;\n",
       "    }\n",
       "\n",
       "    .dataframe tbody tr th {\n",
       "        vertical-align: top;\n",
       "    }\n",
       "\n",
       "    .dataframe thead th {\n",
       "        text-align: right;\n",
       "    }\n",
       "</style>\n",
       "<table border=\"1\" class=\"dataframe\">\n",
       "  <thead>\n",
       "    <tr style=\"text-align: right;\">\n",
       "      <th></th>\n",
       "      <th>num_critic_for_reviews</th>\n",
       "      <th>duration</th>\n",
       "      <th>director_facebook_likes</th>\n",
       "      <th>actor_3_facebook_likes</th>\n",
       "      <th>actor_1_facebook_likes</th>\n",
       "      <th>gross</th>\n",
       "      <th>num_voted_users</th>\n",
       "      <th>cast_total_facebook_likes</th>\n",
       "      <th>facenumber_in_poster</th>\n",
       "      <th>num_user_for_reviews</th>\n",
       "      <th>budget</th>\n",
       "      <th>title_year</th>\n",
       "      <th>actor_2_facebook_likes</th>\n",
       "      <th>imdb_score</th>\n",
       "      <th>movie_facebook_likes</th>\n",
       "      <th>profit</th>\n",
       "    </tr>\n",
       "  </thead>\n",
       "  <tbody>\n",
       "    <tr>\n",
       "      <th>num_critic_for_reviews</th>\n",
       "      <td>1.000000</td>\n",
       "      <td>0.234634</td>\n",
       "      <td>0.177071</td>\n",
       "      <td>0.254337</td>\n",
       "      <td>0.167345</td>\n",
       "      <td>0.468332</td>\n",
       "      <td>0.595232</td>\n",
       "      <td>0.238354</td>\n",
       "      <td>-0.034356</td>\n",
       "      <td>0.567180</td>\n",
       "      <td>0.106256</td>\n",
       "      <td>0.412338</td>\n",
       "      <td>0.255324</td>\n",
       "      <td>0.346706</td>\n",
       "      <td>0.704280</td>\n",
       "      <td>0.039203</td>\n",
       "    </tr>\n",
       "    <tr>\n",
       "      <th>duration</th>\n",
       "      <td>0.234634</td>\n",
       "      <td>1.000000</td>\n",
       "      <td>0.181963</td>\n",
       "      <td>0.127534</td>\n",
       "      <td>0.085424</td>\n",
       "      <td>0.249798</td>\n",
       "      <td>0.342811</td>\n",
       "      <td>0.122291</td>\n",
       "      <td>0.027368</td>\n",
       "      <td>0.355048</td>\n",
       "      <td>0.069215</td>\n",
       "      <td>-0.130229</td>\n",
       "      <td>0.130516</td>\n",
       "      <td>0.364462</td>\n",
       "      <td>0.217407</td>\n",
       "      <td>0.008580</td>\n",
       "    </tr>\n",
       "    <tr>\n",
       "      <th>director_facebook_likes</th>\n",
       "      <td>0.177071</td>\n",
       "      <td>0.181963</td>\n",
       "      <td>1.000000</td>\n",
       "      <td>0.118114</td>\n",
       "      <td>0.089929</td>\n",
       "      <td>0.140018</td>\n",
       "      <td>0.300776</td>\n",
       "      <td>0.119057</td>\n",
       "      <td>-0.047938</td>\n",
       "      <td>0.218591</td>\n",
       "      <td>0.018718</td>\n",
       "      <td>-0.045295</td>\n",
       "      <td>0.116798</td>\n",
       "      <td>0.191618</td>\n",
       "      <td>0.162870</td>\n",
       "      <td>0.024551</td>\n",
       "    </tr>\n",
       "    <tr>\n",
       "      <th>actor_3_facebook_likes</th>\n",
       "      <td>0.254337</td>\n",
       "      <td>0.127534</td>\n",
       "      <td>0.118114</td>\n",
       "      <td>1.000000</td>\n",
       "      <td>0.252090</td>\n",
       "      <td>0.301155</td>\n",
       "      <td>0.269045</td>\n",
       "      <td>0.489154</td>\n",
       "      <td>0.105869</td>\n",
       "      <td>0.206936</td>\n",
       "      <td>0.040561</td>\n",
       "      <td>0.116264</td>\n",
       "      <td>0.553788</td>\n",
       "      <td>0.065479</td>\n",
       "      <td>0.272435</td>\n",
       "      <td>0.052508</td>\n",
       "    </tr>\n",
       "    <tr>\n",
       "      <th>actor_1_facebook_likes</th>\n",
       "      <td>0.167345</td>\n",
       "      <td>0.085424</td>\n",
       "      <td>0.089929</td>\n",
       "      <td>0.252090</td>\n",
       "      <td>1.000000</td>\n",
       "      <td>0.145129</td>\n",
       "      <td>0.180223</td>\n",
       "      <td>0.944975</td>\n",
       "      <td>0.061726</td>\n",
       "      <td>0.123049</td>\n",
       "      <td>0.016883</td>\n",
       "      <td>0.095793</td>\n",
       "      <td>0.390376</td>\n",
       "      <td>0.092940</td>\n",
       "      <td>0.130851</td>\n",
       "      <td>0.027923</td>\n",
       "    </tr>\n",
       "    <tr>\n",
       "      <th>gross</th>\n",
       "      <td>0.468332</td>\n",
       "      <td>0.249798</td>\n",
       "      <td>0.140018</td>\n",
       "      <td>0.301155</td>\n",
       "      <td>0.145129</td>\n",
       "      <td>1.000000</td>\n",
       "      <td>0.626964</td>\n",
       "      <td>0.236890</td>\n",
       "      <td>-0.030697</td>\n",
       "      <td>0.547398</td>\n",
       "      <td>0.100729</td>\n",
       "      <td>0.052339</td>\n",
       "      <td>0.254136</td>\n",
       "      <td>0.214492</td>\n",
       "      <td>0.368847</td>\n",
       "      <td>0.207739</td>\n",
       "    </tr>\n",
       "    <tr>\n",
       "      <th>num_voted_users</th>\n",
       "      <td>0.595232</td>\n",
       "      <td>0.342811</td>\n",
       "      <td>0.300776</td>\n",
       "      <td>0.269045</td>\n",
       "      <td>0.180223</td>\n",
       "      <td>0.626964</td>\n",
       "      <td>1.000000</td>\n",
       "      <td>0.250097</td>\n",
       "      <td>-0.032418</td>\n",
       "      <td>0.780199</td>\n",
       "      <td>0.067219</td>\n",
       "      <td>0.021090</td>\n",
       "      <td>0.246206</td>\n",
       "      <td>0.479745</td>\n",
       "      <td>0.518786</td>\n",
       "      <td>0.126248</td>\n",
       "    </tr>\n",
       "    <tr>\n",
       "      <th>cast_total_facebook_likes</th>\n",
       "      <td>0.238354</td>\n",
       "      <td>0.122291</td>\n",
       "      <td>0.119057</td>\n",
       "      <td>0.489154</td>\n",
       "      <td>0.944975</td>\n",
       "      <td>0.236890</td>\n",
       "      <td>0.250097</td>\n",
       "      <td>1.000000</td>\n",
       "      <td>0.084099</td>\n",
       "      <td>0.180199</td>\n",
       "      <td>0.029293</td>\n",
       "      <td>0.126243</td>\n",
       "      <td>0.642064</td>\n",
       "      <td>0.106178</td>\n",
       "      <td>0.206267</td>\n",
       "      <td>0.043872</td>\n",
       "    </tr>\n",
       "    <tr>\n",
       "      <th>facenumber_in_poster</th>\n",
       "      <td>-0.034356</td>\n",
       "      <td>0.027368</td>\n",
       "      <td>-0.047938</td>\n",
       "      <td>0.105869</td>\n",
       "      <td>0.061726</td>\n",
       "      <td>-0.030697</td>\n",
       "      <td>-0.032418</td>\n",
       "      <td>0.084099</td>\n",
       "      <td>1.000000</td>\n",
       "      <td>-0.080715</td>\n",
       "      <td>-0.021562</td>\n",
       "      <td>0.071910</td>\n",
       "      <td>0.072284</td>\n",
       "      <td>-0.064404</td>\n",
       "      <td>0.016820</td>\n",
       "      <td>0.011782</td>\n",
       "    </tr>\n",
       "    <tr>\n",
       "      <th>num_user_for_reviews</th>\n",
       "      <td>0.567180</td>\n",
       "      <td>0.355048</td>\n",
       "      <td>0.218591</td>\n",
       "      <td>0.206936</td>\n",
       "      <td>0.123049</td>\n",
       "      <td>0.547398</td>\n",
       "      <td>0.780199</td>\n",
       "      <td>0.180199</td>\n",
       "      <td>-0.080715</td>\n",
       "      <td>1.000000</td>\n",
       "      <td>0.071755</td>\n",
       "      <td>0.016606</td>\n",
       "      <td>0.188770</td>\n",
       "      <td>0.323743</td>\n",
       "      <td>0.372166</td>\n",
       "      <td>0.097379</td>\n",
       "    </tr>\n",
       "    <tr>\n",
       "      <th>budget</th>\n",
       "      <td>0.106256</td>\n",
       "      <td>0.069215</td>\n",
       "      <td>0.018718</td>\n",
       "      <td>0.040561</td>\n",
       "      <td>0.016883</td>\n",
       "      <td>0.100729</td>\n",
       "      <td>0.067219</td>\n",
       "      <td>0.029293</td>\n",
       "      <td>-0.021562</td>\n",
       "      <td>0.071755</td>\n",
       "      <td>1.000000</td>\n",
       "      <td>0.046306</td>\n",
       "      <td>0.036304</td>\n",
       "      <td>0.029365</td>\n",
       "      <td>0.053272</td>\n",
       "      <td>-0.952284</td>\n",
       "    </tr>\n",
       "    <tr>\n",
       "      <th>title_year</th>\n",
       "      <td>0.412338</td>\n",
       "      <td>-0.130229</td>\n",
       "      <td>-0.045295</td>\n",
       "      <td>0.116264</td>\n",
       "      <td>0.095793</td>\n",
       "      <td>0.052339</td>\n",
       "      <td>0.021090</td>\n",
       "      <td>0.126243</td>\n",
       "      <td>0.071910</td>\n",
       "      <td>0.016606</td>\n",
       "      <td>0.046306</td>\n",
       "      <td>1.000000</td>\n",
       "      <td>0.121051</td>\n",
       "      <td>-0.134213</td>\n",
       "      <td>0.304202</td>\n",
       "      <td>-0.029471</td>\n",
       "    </tr>\n",
       "    <tr>\n",
       "      <th>actor_2_facebook_likes</th>\n",
       "      <td>0.255324</td>\n",
       "      <td>0.130516</td>\n",
       "      <td>0.116798</td>\n",
       "      <td>0.553788</td>\n",
       "      <td>0.390376</td>\n",
       "      <td>0.254136</td>\n",
       "      <td>0.246206</td>\n",
       "      <td>0.642064</td>\n",
       "      <td>0.072284</td>\n",
       "      <td>0.188770</td>\n",
       "      <td>0.036304</td>\n",
       "      <td>0.121051</td>\n",
       "      <td>1.000000</td>\n",
       "      <td>0.102411</td>\n",
       "      <td>0.233458</td>\n",
       "      <td>0.042269</td>\n",
       "    </tr>\n",
       "    <tr>\n",
       "      <th>imdb_score</th>\n",
       "      <td>0.346706</td>\n",
       "      <td>0.364462</td>\n",
       "      <td>0.191618</td>\n",
       "      <td>0.065479</td>\n",
       "      <td>0.092940</td>\n",
       "      <td>0.214492</td>\n",
       "      <td>0.479745</td>\n",
       "      <td>0.106178</td>\n",
       "      <td>-0.064404</td>\n",
       "      <td>0.323743</td>\n",
       "      <td>0.029365</td>\n",
       "      <td>-0.134213</td>\n",
       "      <td>0.102411</td>\n",
       "      <td>1.000000</td>\n",
       "      <td>0.279704</td>\n",
       "      <td>0.036929</td>\n",
       "    </tr>\n",
       "    <tr>\n",
       "      <th>movie_facebook_likes</th>\n",
       "      <td>0.704280</td>\n",
       "      <td>0.217407</td>\n",
       "      <td>0.162870</td>\n",
       "      <td>0.272435</td>\n",
       "      <td>0.130851</td>\n",
       "      <td>0.368847</td>\n",
       "      <td>0.518786</td>\n",
       "      <td>0.206267</td>\n",
       "      <td>0.016820</td>\n",
       "      <td>0.372166</td>\n",
       "      <td>0.053272</td>\n",
       "      <td>0.304202</td>\n",
       "      <td>0.233458</td>\n",
       "      <td>0.279704</td>\n",
       "      <td>1.000000</td>\n",
       "      <td>0.060776</td>\n",
       "    </tr>\n",
       "    <tr>\n",
       "      <th>profit</th>\n",
       "      <td>0.039203</td>\n",
       "      <td>0.008580</td>\n",
       "      <td>0.024551</td>\n",
       "      <td>0.052508</td>\n",
       "      <td>0.027923</td>\n",
       "      <td>0.207739</td>\n",
       "      <td>0.126248</td>\n",
       "      <td>0.043872</td>\n",
       "      <td>0.011782</td>\n",
       "      <td>0.097379</td>\n",
       "      <td>-0.952284</td>\n",
       "      <td>-0.029471</td>\n",
       "      <td>0.042269</td>\n",
       "      <td>0.036929</td>\n",
       "      <td>0.060776</td>\n",
       "      <td>1.000000</td>\n",
       "    </tr>\n",
       "  </tbody>\n",
       "</table>\n",
       "</div>"
      ],
      "text/plain": [
       "                           num_critic_for_reviews  duration  \\\n",
       "num_critic_for_reviews                   1.000000  0.234634   \n",
       "duration                                 0.234634  1.000000   \n",
       "director_facebook_likes                  0.177071  0.181963   \n",
       "actor_3_facebook_likes                   0.254337  0.127534   \n",
       "actor_1_facebook_likes                   0.167345  0.085424   \n",
       "gross                                    0.468332  0.249798   \n",
       "num_voted_users                          0.595232  0.342811   \n",
       "cast_total_facebook_likes                0.238354  0.122291   \n",
       "facenumber_in_poster                    -0.034356  0.027368   \n",
       "num_user_for_reviews                     0.567180  0.355048   \n",
       "budget                                   0.106256  0.069215   \n",
       "title_year                               0.412338 -0.130229   \n",
       "actor_2_facebook_likes                   0.255324  0.130516   \n",
       "imdb_score                               0.346706  0.364462   \n",
       "movie_facebook_likes                     0.704280  0.217407   \n",
       "profit                                   0.039203  0.008580   \n",
       "\n",
       "                           director_facebook_likes  actor_3_facebook_likes  \\\n",
       "num_critic_for_reviews                    0.177071                0.254337   \n",
       "duration                                  0.181963                0.127534   \n",
       "director_facebook_likes                   1.000000                0.118114   \n",
       "actor_3_facebook_likes                    0.118114                1.000000   \n",
       "actor_1_facebook_likes                    0.089929                0.252090   \n",
       "gross                                     0.140018                0.301155   \n",
       "num_voted_users                           0.300776                0.269045   \n",
       "cast_total_facebook_likes                 0.119057                0.489154   \n",
       "facenumber_in_poster                     -0.047938                0.105869   \n",
       "num_user_for_reviews                      0.218591                0.206936   \n",
       "budget                                    0.018718                0.040561   \n",
       "title_year                               -0.045295                0.116264   \n",
       "actor_2_facebook_likes                    0.116798                0.553788   \n",
       "imdb_score                                0.191618                0.065479   \n",
       "movie_facebook_likes                      0.162870                0.272435   \n",
       "profit                                    0.024551                0.052508   \n",
       "\n",
       "                           actor_1_facebook_likes     gross  num_voted_users  \\\n",
       "num_critic_for_reviews                   0.167345  0.468332         0.595232   \n",
       "duration                                 0.085424  0.249798         0.342811   \n",
       "director_facebook_likes                  0.089929  0.140018         0.300776   \n",
       "actor_3_facebook_likes                   0.252090  0.301155         0.269045   \n",
       "actor_1_facebook_likes                   1.000000  0.145129         0.180223   \n",
       "gross                                    0.145129  1.000000         0.626964   \n",
       "num_voted_users                          0.180223  0.626964         1.000000   \n",
       "cast_total_facebook_likes                0.944975  0.236890         0.250097   \n",
       "facenumber_in_poster                     0.061726 -0.030697        -0.032418   \n",
       "num_user_for_reviews                     0.123049  0.547398         0.780199   \n",
       "budget                                   0.016883  0.100729         0.067219   \n",
       "title_year                               0.095793  0.052339         0.021090   \n",
       "actor_2_facebook_likes                   0.390376  0.254136         0.246206   \n",
       "imdb_score                               0.092940  0.214492         0.479745   \n",
       "movie_facebook_likes                     0.130851  0.368847         0.518786   \n",
       "profit                                   0.027923  0.207739         0.126248   \n",
       "\n",
       "                           cast_total_facebook_likes  facenumber_in_poster  \\\n",
       "num_critic_for_reviews                      0.238354             -0.034356   \n",
       "duration                                    0.122291              0.027368   \n",
       "director_facebook_likes                     0.119057             -0.047938   \n",
       "actor_3_facebook_likes                      0.489154              0.105869   \n",
       "actor_1_facebook_likes                      0.944975              0.061726   \n",
       "gross                                       0.236890             -0.030697   \n",
       "num_voted_users                             0.250097             -0.032418   \n",
       "cast_total_facebook_likes                   1.000000              0.084099   \n",
       "facenumber_in_poster                        0.084099              1.000000   \n",
       "num_user_for_reviews                        0.180199             -0.080715   \n",
       "budget                                      0.029293             -0.021562   \n",
       "title_year                                  0.126243              0.071910   \n",
       "actor_2_facebook_likes                      0.642064              0.072284   \n",
       "imdb_score                                  0.106178             -0.064404   \n",
       "movie_facebook_likes                        0.206267              0.016820   \n",
       "profit                                      0.043872              0.011782   \n",
       "\n",
       "                           num_user_for_reviews    budget  title_year  \\\n",
       "num_critic_for_reviews                 0.567180  0.106256    0.412338   \n",
       "duration                               0.355048  0.069215   -0.130229   \n",
       "director_facebook_likes                0.218591  0.018718   -0.045295   \n",
       "actor_3_facebook_likes                 0.206936  0.040561    0.116264   \n",
       "actor_1_facebook_likes                 0.123049  0.016883    0.095793   \n",
       "gross                                  0.547398  0.100729    0.052339   \n",
       "num_voted_users                        0.780199  0.067219    0.021090   \n",
       "cast_total_facebook_likes              0.180199  0.029293    0.126243   \n",
       "facenumber_in_poster                  -0.080715 -0.021562    0.071910   \n",
       "num_user_for_reviews                   1.000000  0.071755    0.016606   \n",
       "budget                                 0.071755  1.000000    0.046306   \n",
       "title_year                             0.016606  0.046306    1.000000   \n",
       "actor_2_facebook_likes                 0.188770  0.036304    0.121051   \n",
       "imdb_score                             0.323743  0.029365   -0.134213   \n",
       "movie_facebook_likes                   0.372166  0.053272    0.304202   \n",
       "profit                                 0.097379 -0.952284   -0.029471   \n",
       "\n",
       "                           actor_2_facebook_likes  imdb_score  \\\n",
       "num_critic_for_reviews                   0.255324    0.346706   \n",
       "duration                                 0.130516    0.364462   \n",
       "director_facebook_likes                  0.116798    0.191618   \n",
       "actor_3_facebook_likes                   0.553788    0.065479   \n",
       "actor_1_facebook_likes                   0.390376    0.092940   \n",
       "gross                                    0.254136    0.214492   \n",
       "num_voted_users                          0.246206    0.479745   \n",
       "cast_total_facebook_likes                0.642064    0.106178   \n",
       "facenumber_in_poster                     0.072284   -0.064404   \n",
       "num_user_for_reviews                     0.188770    0.323743   \n",
       "budget                                   0.036304    0.029365   \n",
       "title_year                               0.121051   -0.134213   \n",
       "actor_2_facebook_likes                   1.000000    0.102411   \n",
       "imdb_score                               0.102411    1.000000   \n",
       "movie_facebook_likes                     0.233458    0.279704   \n",
       "profit                                   0.042269    0.036929   \n",
       "\n",
       "                           movie_facebook_likes    profit  \n",
       "num_critic_for_reviews                 0.704280  0.039203  \n",
       "duration                               0.217407  0.008580  \n",
       "director_facebook_likes                0.162870  0.024551  \n",
       "actor_3_facebook_likes                 0.272435  0.052508  \n",
       "actor_1_facebook_likes                 0.130851  0.027923  \n",
       "gross                                  0.368847  0.207739  \n",
       "num_voted_users                        0.518786  0.126248  \n",
       "cast_total_facebook_likes              0.206267  0.043872  \n",
       "facenumber_in_poster                   0.016820  0.011782  \n",
       "num_user_for_reviews                   0.372166  0.097379  \n",
       "budget                                 0.053272 -0.952284  \n",
       "title_year                             0.304202 -0.029471  \n",
       "actor_2_facebook_likes                 0.233458  0.042269  \n",
       "imdb_score                             0.279704  0.036929  \n",
       "movie_facebook_likes                   1.000000  0.060776  \n",
       "profit                                 0.060776  1.000000  "
      ]
     },
     "execution_count": 250,
     "metadata": {},
     "output_type": "execute_result"
    }
   ],
   "source": [
    "dfCom.corr()"
   ]
  },
  {
   "cell_type": "code",
   "execution_count": 251,
   "metadata": {
    "ExecuteTime": {
     "end_time": "2019-12-10T22:29:19.571047Z",
     "start_time": "2019-12-10T22:29:18.984410Z"
    },
    "slideshow": {
     "slide_type": "skip"
    }
   },
   "outputs": [
    {
     "data": {
      "text/plain": [
       "<matplotlib.axes._subplots.AxesSubplot at 0x1f086a5f5c0>"
      ]
     },
     "execution_count": 251,
     "metadata": {},
     "output_type": "execute_result"
    },
    {
     "data": {
      "image/png": "[encoded data removed]",
      "text/plain": [
       "<Figure size 720x720 with 2 Axes>"
      ]
     },
     "metadata": {
      "needs_background": "light"
     },
     "output_type": "display_data"
    }
   ],
   "source": [
    "plt.figure(figsize=(10,10))\n",
    "sns.heatmap(dfCom.corr(),vmax=.8, square=True)"
   ]
  },
  {
   "cell_type": "markdown",
   "metadata": {
    "slideshow": {
     "slide_type": "slide"
    }
   },
   "source": [
    "# New Findings (Final Project)"
   ]
  },
  {
   "cell_type": "markdown",
   "metadata": {
    "slideshow": {
     "slide_type": "subslide"
    }
   },
   "source": [
    "## 1. Regression Analysis"
   ]
  },
  {
   "cell_type": "markdown",
   "metadata": {
    "slideshow": {
     "slide_type": "skip"
    }
   },
   "source": [
    "### Import Packages"
   ]
  },
  {
   "cell_type": "code",
   "execution_count": 252,
   "metadata": {
    "ExecuteTime": {
     "end_time": "2019-12-10T22:31:52.649194Z",
     "start_time": "2019-12-10T22:31:50.802984Z"
    },
    "slideshow": {
     "slide_type": "skip"
    }
   },
   "outputs": [],
   "source": [
    "#regression packages\n",
    "import sklearn.linear_model as lm\n",
    "from sklearn.metrics import mean_squared_error\n",
    "from sklearn.metrics import explained_variance_score\n",
    "\n",
    "#lasso regression\n",
    "from sklearn import linear_model\n",
    "\n",
    "#f_regression (feature selection)\n",
    "from sklearn.feature_selection import f_regression\n",
    "from sklearn.feature_selection import SelectKBest\n",
    "\n",
    "# recursive feature selection (feature selection)\n",
    "from sklearn.feature_selection import RFE\n",
    "\n",
    "import statsmodels.api as sm\n",
    "from statsmodels.formula.api import ols\n",
    "\n",
    "# model validation \n",
    "from sklearn.model_selection import train_test_split"
   ]
  },
  {
   "cell_type": "code",
   "execution_count": 253,
   "metadata": {
    "slideshow": {
     "slide_type": "subslide"
    }
   },
   "outputs": [],
   "source": [
    "#assigning columns to X and Y variables\n",
    "y = dfCom['imdb_score'] \n",
    "X = dfCom.drop(['imdb_score','color','director_name','actor_2_name','actor_1_name', 'actor_3_name','plot_keywords','genres','movie_title','language','country','content_rating'], axis =1)"
   ]
  },
  {
   "cell_type": "code",
   "execution_count": 254,
   "metadata": {
    "slideshow": {
     "slide_type": "skip"
    }
   },
   "outputs": [
    {
     "data": {
      "text/plain": [
       "0    7.9\n",
       "1    7.1\n",
       "Name: imdb_score, dtype: float64"
      ]
     },
     "execution_count": 254,
     "metadata": {},
     "output_type": "execute_result"
    }
   ],
   "source": [
    "y.head(2)"
   ]
  },
  {
   "cell_type": "code",
   "execution_count": 255,
   "metadata": {
    "slideshow": {
     "slide_type": "skip"
    }
   },
   "outputs": [
    {
     "data": {
      "text/html": [
       "<div>\n",
       "<style scoped>\n",
       "    .dataframe tbody tr th:only-of-type {\n",
       "        vertical-align: middle;\n",
       "    }\n",
       "\n",
       "    .dataframe tbody tr th {\n",
       "        vertical-align: top;\n",
       "    }\n",
       "\n",
       "    .dataframe thead th {\n",
       "        text-align: right;\n",
       "    }\n",
       "</style>\n",
       "<table border=\"1\" class=\"dataframe\">\n",
       "  <thead>\n",
       "    <tr style=\"text-align: right;\">\n",
       "      <th></th>\n",
       "      <th>num_critic_for_reviews</th>\n",
       "      <th>duration</th>\n",
       "      <th>director_facebook_likes</th>\n",
       "      <th>actor_3_facebook_likes</th>\n",
       "      <th>actor_1_facebook_likes</th>\n",
       "      <th>gross</th>\n",
       "      <th>num_voted_users</th>\n",
       "      <th>cast_total_facebook_likes</th>\n",
       "      <th>facenumber_in_poster</th>\n",
       "      <th>num_user_for_reviews</th>\n",
       "      <th>budget</th>\n",
       "      <th>title_year</th>\n",
       "      <th>actor_2_facebook_likes</th>\n",
       "      <th>movie_facebook_likes</th>\n",
       "      <th>profit</th>\n",
       "    </tr>\n",
       "  </thead>\n",
       "  <tbody>\n",
       "    <tr>\n",
       "      <th>0</th>\n",
       "      <td>723.0</td>\n",
       "      <td>178.0</td>\n",
       "      <td>0.0</td>\n",
       "      <td>855.0</td>\n",
       "      <td>1000.0</td>\n",
       "      <td>760505847.0</td>\n",
       "      <td>886204</td>\n",
       "      <td>4834</td>\n",
       "      <td>0.0</td>\n",
       "      <td>3054.0</td>\n",
       "      <td>237000000.0</td>\n",
       "      <td>2009.0</td>\n",
       "      <td>936.0</td>\n",
       "      <td>33000</td>\n",
       "      <td>523505847.0</td>\n",
       "    </tr>\n",
       "    <tr>\n",
       "      <th>1</th>\n",
       "      <td>302.0</td>\n",
       "      <td>169.0</td>\n",
       "      <td>563.0</td>\n",
       "      <td>1000.0</td>\n",
       "      <td>40000.0</td>\n",
       "      <td>309404152.0</td>\n",
       "      <td>471220</td>\n",
       "      <td>48350</td>\n",
       "      <td>0.0</td>\n",
       "      <td>1238.0</td>\n",
       "      <td>300000000.0</td>\n",
       "      <td>2007.0</td>\n",
       "      <td>5000.0</td>\n",
       "      <td>0</td>\n",
       "      <td>9404152.0</td>\n",
       "    </tr>\n",
       "  </tbody>\n",
       "</table>\n",
       "</div>"
      ],
      "text/plain": [
       "   num_critic_for_reviews  duration  director_facebook_likes  \\\n",
       "0                   723.0     178.0                      0.0   \n",
       "1                   302.0     169.0                    563.0   \n",
       "\n",
       "   actor_3_facebook_likes  actor_1_facebook_likes        gross  \\\n",
       "0                   855.0                  1000.0  760505847.0   \n",
       "1                  1000.0                 40000.0  309404152.0   \n",
       "\n",
       "   num_voted_users  cast_total_facebook_likes  facenumber_in_poster  \\\n",
       "0           886204                       4834                   0.0   \n",
       "1           471220                      48350                   0.0   \n",
       "\n",
       "   num_user_for_reviews       budget  title_year  actor_2_facebook_likes  \\\n",
       "0                3054.0  237000000.0      2009.0                   936.0   \n",
       "1                1238.0  300000000.0      2007.0                  5000.0   \n",
       "\n",
       "   movie_facebook_likes       profit  \n",
       "0                 33000  523505847.0  \n",
       "1                     0    9404152.0  "
      ]
     },
     "execution_count": 255,
     "metadata": {},
     "output_type": "execute_result"
    }
   ],
   "source": [
    "X.head(2)"
   ]
  },
  {
   "cell_type": "code",
   "execution_count": 256,
   "metadata": {
    "slideshow": {
     "slide_type": "subslide"
    }
   },
   "outputs": [],
   "source": [
    "# build a multiple regression model \n",
    "\n",
    "model1 = lm.LinearRegression()\n",
    "model1.fit(X, y)   \n",
    "model1_y = model1.predict(X)"
   ]
  },
  {
   "cell_type": "code",
   "execution_count": 257,
   "metadata": {
    "slideshow": {
     "slide_type": "skip"
    }
   },
   "outputs": [
    {
     "name": "stdout",
     "output_type": "stream",
     "text": [
      "Coefficients:  [ 2.59513022e-03  1.01158897e-02  3.09711076e-06  7.16185010e-05\n",
      "  7.17993551e-05  5.76745630e+04  3.73598388e-06 -7.06831142e-05\n",
      " -2.31157978e-02 -6.31552009e-04 -5.76745630e+04 -2.21594601e-02\n",
      "  7.43854171e-05 -2.03752222e-06 -5.76745630e+04]\n",
      "y-intercept  49.32671838032334\n"
     ]
    }
   ],
   "source": [
    "# model coeffcients \n",
    "print('Coefficients: ', model1.coef_)\n",
    "print(\"y-intercept \", model1.intercept_)"
   ]
  },
  {
   "cell_type": "code",
   "execution_count": 258,
   "metadata": {
    "slideshow": {
     "slide_type": "subslide"
    }
   },
   "outputs": [
    {
     "data": {
      "text/html": [
       "<div>\n",
       "<style scoped>\n",
       "    .dataframe tbody tr th:only-of-type {\n",
       "        vertical-align: middle;\n",
       "    }\n",
       "\n",
       "    .dataframe tbody tr th {\n",
       "        vertical-align: top;\n",
       "    }\n",
       "\n",
       "    .dataframe thead th {\n",
       "        text-align: right;\n",
       "    }\n",
       "</style>\n",
       "<table border=\"1\" class=\"dataframe\">\n",
       "  <thead>\n",
       "    <tr style=\"text-align: right;\">\n",
       "      <th></th>\n",
       "      <th>0</th>\n",
       "      <th>1</th>\n",
       "    </tr>\n",
       "  </thead>\n",
       "  <tbody>\n",
       "    <tr>\n",
       "      <th>0</th>\n",
       "      <td>num_critic_for_reviews</td>\n",
       "      <td>0.002595</td>\n",
       "    </tr>\n",
       "    <tr>\n",
       "      <th>1</th>\n",
       "      <td>duration</td>\n",
       "      <td>0.010116</td>\n",
       "    </tr>\n",
       "    <tr>\n",
       "      <th>2</th>\n",
       "      <td>director_facebook_likes</td>\n",
       "      <td>0.000003</td>\n",
       "    </tr>\n",
       "    <tr>\n",
       "      <th>3</th>\n",
       "      <td>actor_3_facebook_likes</td>\n",
       "      <td>0.000072</td>\n",
       "    </tr>\n",
       "    <tr>\n",
       "      <th>4</th>\n",
       "      <td>actor_1_facebook_likes</td>\n",
       "      <td>0.000072</td>\n",
       "    </tr>\n",
       "    <tr>\n",
       "      <th>5</th>\n",
       "      <td>gross</td>\n",
       "      <td>57674.563042</td>\n",
       "    </tr>\n",
       "    <tr>\n",
       "      <th>6</th>\n",
       "      <td>num_voted_users</td>\n",
       "      <td>0.000004</td>\n",
       "    </tr>\n",
       "    <tr>\n",
       "      <th>7</th>\n",
       "      <td>cast_total_facebook_likes</td>\n",
       "      <td>-0.000071</td>\n",
       "    </tr>\n",
       "    <tr>\n",
       "      <th>8</th>\n",
       "      <td>facenumber_in_poster</td>\n",
       "      <td>-0.023116</td>\n",
       "    </tr>\n",
       "    <tr>\n",
       "      <th>9</th>\n",
       "      <td>num_user_for_reviews</td>\n",
       "      <td>-0.000632</td>\n",
       "    </tr>\n",
       "    <tr>\n",
       "      <th>10</th>\n",
       "      <td>budget</td>\n",
       "      <td>-57674.563042</td>\n",
       "    </tr>\n",
       "    <tr>\n",
       "      <th>11</th>\n",
       "      <td>title_year</td>\n",
       "      <td>-0.022159</td>\n",
       "    </tr>\n",
       "    <tr>\n",
       "      <th>12</th>\n",
       "      <td>actor_2_facebook_likes</td>\n",
       "      <td>0.000074</td>\n",
       "    </tr>\n",
       "    <tr>\n",
       "      <th>13</th>\n",
       "      <td>movie_facebook_likes</td>\n",
       "      <td>-0.000002</td>\n",
       "    </tr>\n",
       "    <tr>\n",
       "      <th>14</th>\n",
       "      <td>profit</td>\n",
       "      <td>-57674.563042</td>\n",
       "    </tr>\n",
       "  </tbody>\n",
       "</table>\n",
       "</div>"
      ],
      "text/plain": [
       "                            0             1\n",
       "0      num_critic_for_reviews      0.002595\n",
       "1                    duration      0.010116\n",
       "2     director_facebook_likes      0.000003\n",
       "3      actor_3_facebook_likes      0.000072\n",
       "4      actor_1_facebook_likes      0.000072\n",
       "5                       gross  57674.563042\n",
       "6             num_voted_users      0.000004\n",
       "7   cast_total_facebook_likes     -0.000071\n",
       "8        facenumber_in_poster     -0.023116\n",
       "9        num_user_for_reviews     -0.000632\n",
       "10                     budget -57674.563042\n",
       "11                 title_year     -0.022159\n",
       "12     actor_2_facebook_likes      0.000074\n",
       "13       movie_facebook_likes     -0.000002\n",
       "14                     profit -57674.563042"
      ]
     },
     "execution_count": 258,
     "metadata": {},
     "output_type": "execute_result"
    }
   ],
   "source": [
    "pd.DataFrame(list(zip(X.columns, np.transpose(model1.coef_))))"
   ]
  },
  {
   "cell_type": "code",
   "execution_count": 259,
   "metadata": {
    "slideshow": {
     "slide_type": "skip"
    }
   },
   "outputs": [
    {
     "data": {
      "text/plain": [
       "[('num_critic_for_reviews', '0.003'),\n",
       " ('duration', '0.010'),\n",
       " ('director_facebook_likes', '0.000'),\n",
       " ('actor_3_facebook_likes', '0.000'),\n",
       " ('actor_1_facebook_likes', '0.000'),\n",
       " ('gross', '57674.563'),\n",
       " ('num_voted_users', '0.000'),\n",
       " ('cast_total_facebook_likes', '-0.000'),\n",
       " ('facenumber_in_poster', '-0.023'),\n",
       " ('num_user_for_reviews', '-0.001'),\n",
       " ('budget', '-57674.563'),\n",
       " ('title_year', '-0.022'),\n",
       " ('actor_2_facebook_likes', '0.000'),\n",
       " ('movie_facebook_likes', '-0.000'),\n",
       " ('profit', '-57674.563')]"
      ]
     },
     "execution_count": 259,
     "metadata": {},
     "output_type": "execute_result"
    }
   ],
   "source": [
    "coef = [\"%.3f\" % i for i in model1.coef_]\n",
    "xcolumns = [ i for i in X.columns ]\n",
    "list(zip(xcolumns, coef))"
   ]
  },
  {
   "cell_type": "code",
   "execution_count": 260,
   "metadata": {
    "slideshow": {
     "slide_type": "slide"
    }
   },
   "outputs": [
    {
     "name": "stdout",
     "output_type": "stream",
     "text": [
      "mean square error:  0.7158047920623787\n",
      "variance or r-squared:  0.35864255181828497\n"
     ]
    }
   ],
   "source": [
    "# Evaluating model \n",
    "print(\"mean square error: \", mean_squared_error(y, model1_y))\n",
    "print(\"variance or r-squared: \", explained_variance_score(y, model1_y))"
   ]
  },
  {
   "cell_type": "markdown",
   "metadata": {
    "slideshow": {
     "slide_type": "slide"
    }
   },
   "source": [
    "### Statsmodel "
   ]
  },
  {
   "cell_type": "code",
   "execution_count": 261,
   "metadata": {
    "slideshow": {
     "slide_type": "subslide"
    }
   },
   "outputs": [
    {
     "name": "stdout",
     "output_type": "stream",
     "text": [
      "Features sorted by their rank:\n",
      "[(1, 'duration'), (1, 'facenumber_in_poster'), (2, 'title_year'), (3, 'num_critic_for_reviews'), (4, 'actor_3_facebook_likes'), (5, 'actor_2_facebook_likes'), (6, 'actor_1_facebook_likes'), (7, 'cast_total_facebook_likes'), (8, 'num_user_for_reviews'), (9, 'gross'), (10, 'budget'), (11, 'profit'), (12, 'num_voted_users'), (13, 'director_facebook_likes'), (14, 'movie_facebook_likes')]\n"
     ]
    }
   ],
   "source": [
    "lr = lm.LinearRegression()\n",
    "rfe = RFE(lr, n_features_to_select=2)\n",
    "rfe_y = rfe.fit(X,y)\n",
    "\n",
    "print(\"Features sorted by their rank:\")\n",
    "print(sorted(zip([x for x in rfe.ranking_], X.columns)))"
   ]
  },
  {
   "cell_type": "markdown",
   "metadata": {
    "slideshow": {
     "slide_type": "slide"
    }
   },
   "source": [
    "#### Model 1 (All Features)"
   ]
  },
  {
   "cell_type": "code",
   "execution_count": 262,
   "metadata": {
    "slideshow": {
     "slide_type": "subslide"
    }
   },
   "outputs": [],
   "source": [
    "runs_reg_model1 = ols(\"imdb_score~duration+facenumber_in_poster+title_year+num_critic_for_reviews+actor_3_facebook_likes+actor_2_facebook_likes+actor_1_facebook_likes+cast_total_facebook_likes+num_user_for_reviews+gross+budget+profit+num_voted_users+director_facebook_likes+movie_facebook_likes\",dfCom)\n",
    "runs_reg1 = runs_reg_model1.fit()"
   ]
  },
  {
   "cell_type": "code",
   "execution_count": 263,
   "metadata": {
    "slideshow": {
     "slide_type": "subslide"
    }
   },
   "outputs": [
    {
     "name": "stdout",
     "output_type": "stream",
     "text": [
      "                            OLS Regression Results                            \n",
      "==============================================================================\n",
      "Dep. Variable:             imdb_score   R-squared:                       0.359\n",
      "Model:                            OLS   Adj. R-squared:                  0.356\n",
      "Method:                 Least Squares   F-statistic:                     151.4\n",
      "Date:                Tue, 10 Dec 2019   Prob (F-statistic):               0.00\n",
      "Time:                        22:29:18   Log-Likelihood:                -4761.5\n",
      "No. Observations:                3804   AIC:                             9553.\n",
      "Df Residuals:                    3789   BIC:                             9647.\n",
      "Df Model:                          14                                         \n",
      "Covariance Type:            nonrobust                                         \n",
      "=============================================================================================\n",
      "                                coef    std err          t      P>|t|      [0.025      0.975]\n",
      "---------------------------------------------------------------------------------------------\n",
      "Intercept                    49.3383      3.332     14.809      0.000      42.806      55.870\n",
      "duration                      0.0103      0.001     15.247      0.000       0.009       0.012\n",
      "facenumber_in_poster         -0.0232      0.007     -3.378      0.001      -0.037      -0.010\n",
      "title_year                   -0.0222      0.002    -13.344      0.000      -0.025      -0.019\n",
      "num_critic_for_reviews        0.0026      0.000     13.181      0.000       0.002       0.003\n",
      "actor_3_facebook_likes     7.158e-05   2.14e-05      3.352      0.001    2.97e-05       0.000\n",
      "actor_2_facebook_likes     7.431e-05   1.37e-05      5.437      0.000    4.75e-05       0.000\n",
      "actor_1_facebook_likes     7.173e-05    1.3e-05      5.520      0.000    4.63e-05    9.72e-05\n",
      "cast_total_facebook_likes -7.063e-05    1.3e-05     -5.452      0.000    -9.6e-05   -4.52e-05\n",
      "num_user_for_reviews         -0.0006   5.75e-05    -10.988      0.000      -0.001      -0.001\n",
      "gross                       2.11e-05   1.42e-06     14.808      0.000    1.83e-05    2.39e-05\n",
      "budget                     -2.11e-05   1.42e-06    -14.809      0.000   -2.39e-05   -1.83e-05\n",
      "profit                     -2.11e-05   1.42e-06    -14.809      0.000   -2.39e-05   -1.83e-05\n",
      "num_voted_users            3.733e-06   1.74e-07     21.506      0.000    3.39e-06    4.07e-06\n",
      "director_facebook_likes    3.119e-06   4.78e-06      0.652      0.514   -6.26e-06    1.25e-05\n",
      "movie_facebook_likes      -2.006e-06   9.56e-07     -2.098      0.036   -3.88e-06   -1.32e-07\n",
      "==============================================================================\n",
      "Omnibus:                      531.878   Durbin-Watson:                   1.876\n",
      "Prob(Omnibus):                  0.000   Jarque-Bera (JB):             1041.142\n",
      "Skew:                          -0.869   Prob(JB):                    8.29e-227\n",
      "Kurtosis:                       4.884   Cond. No.                     9.27e+15\n",
      "==============================================================================\n",
      "\n",
      "Warnings:\n",
      "[1] Standard Errors assume that the covariance matrix of the errors is correctly specified.\n",
      "[2] The smallest eigenvalue is 4.47e-12. This might indicate that there are\n",
      "strong multicollinearity problems or that the design matrix is singular.\n"
     ]
    }
   ],
   "source": [
    "print(runs_reg1.summary())"
   ]
  },
  {
   "cell_type": "markdown",
   "metadata": {
    "slideshow": {
     "slide_type": "slide"
    }
   },
   "source": [
    "#### Model 2 (Top 5 Features)"
   ]
  },
  {
   "cell_type": "code",
   "execution_count": 264,
   "metadata": {
    "slideshow": {
     "slide_type": "subslide"
    }
   },
   "outputs": [],
   "source": [
    "runs_reg_model2 = ols(\"imdb_score~duration+facenumber_in_poster+title_year+num_critic_for_reviews+actor_3_facebook_likes\",dfCom)\n",
    "runs_reg2 = runs_reg_model2.fit()"
   ]
  },
  {
   "cell_type": "code",
   "execution_count": 265,
   "metadata": {
    "slideshow": {
     "slide_type": "subslide"
    }
   },
   "outputs": [
    {
     "name": "stdout",
     "output_type": "stream",
     "text": [
      "                            OLS Regression Results                            \n",
      "==============================================================================\n",
      "Dep. Variable:             imdb_score   R-squared:                       0.264\n",
      "Model:                            OLS   Adj. R-squared:                  0.263\n",
      "Method:                 Least Squares   F-statistic:                     272.4\n",
      "Date:                Tue, 10 Dec 2019   Prob (F-statistic):          1.50e-249\n",
      "Time:                        22:29:19   Log-Likelihood:                -5023.6\n",
      "No. Observations:                3804   AIC:                         1.006e+04\n",
      "Df Residuals:                    3798   BIC:                         1.010e+04\n",
      "Df Model:                           5                                         \n",
      "Covariance Type:            nonrobust                                         \n",
      "==========================================================================================\n",
      "                             coef    std err          t      P>|t|      [0.025      0.975]\n",
      "------------------------------------------------------------------------------------------\n",
      "Intercept                 61.2849      3.414     17.949      0.000      54.591      67.979\n",
      "duration                   0.0112      0.001     16.116      0.000       0.010       0.013\n",
      "facenumber_in_poster      -0.0178      0.007     -2.435      0.015      -0.032      -0.003\n",
      "title_year                -0.0283      0.002    -16.620      0.000      -0.032      -0.025\n",
      "num_critic_for_reviews     0.0035      0.000     24.615      0.000       0.003       0.004\n",
      "actor_3_facebook_likes -1.921e-05   8.15e-06     -2.356      0.019   -3.52e-05   -3.23e-06\n",
      "==============================================================================\n",
      "Omnibus:                      444.187   Durbin-Watson:                   1.857\n",
      "Prob(Omnibus):                  0.000   Jarque-Bera (JB):              746.147\n",
      "Skew:                          -0.802   Prob(JB):                    9.47e-163\n",
      "Kurtosis:                       4.462   Cond. No.                     5.51e+05\n",
      "==============================================================================\n",
      "\n",
      "Warnings:\n",
      "[1] Standard Errors assume that the covariance matrix of the errors is correctly specified.\n",
      "[2] The condition number is large, 5.51e+05. This might indicate that there are\n",
      "strong multicollinearity or other numerical problems.\n"
     ]
    }
   ],
   "source": [
    "print(runs_reg2.summary())"
   ]
  },
  {
   "cell_type": "markdown",
   "metadata": {
    "slideshow": {
     "slide_type": "skip"
    }
   },
   "source": [
    "#### Model 3 (Top 3 Features)"
   ]
  },
  {
   "cell_type": "code",
   "execution_count": 266,
   "metadata": {
    "slideshow": {
     "slide_type": "skip"
    }
   },
   "outputs": [],
   "source": [
    "runs_reg_model3 = ols(\"imdb_score~duration+facenumber_in_poster+title_year\",dfCom)\n",
    "runs_reg3 = runs_reg_model3.fit()"
   ]
  },
  {
   "cell_type": "code",
   "execution_count": 267,
   "metadata": {
    "slideshow": {
     "slide_type": "skip"
    }
   },
   "outputs": [
    {
     "name": "stdout",
     "output_type": "stream",
     "text": [
      "                            OLS Regression Results                            \n",
      "==============================================================================\n",
      "Dep. Variable:             imdb_score   R-squared:                       0.145\n",
      "Model:                            OLS   Adj. R-squared:                  0.144\n",
      "Method:                 Least Squares   F-statistic:                     215.0\n",
      "Date:                Tue, 10 Dec 2019   Prob (F-statistic):          8.11e-129\n",
      "Time:                        22:29:21   Log-Likelihood:                -5308.3\n",
      "No. Observations:                3804   AIC:                         1.062e+04\n",
      "Df Residuals:                    3800   BIC:                         1.065e+04\n",
      "Df Model:                           3                                         \n",
      "Covariance Type:            nonrobust                                         \n",
      "========================================================================================\n",
      "                           coef    std err          t      P>|t|      [0.025      0.975]\n",
      "----------------------------------------------------------------------------------------\n",
      "Intercept               22.4555      3.259      6.890      0.000      16.066      28.845\n",
      "duration                 0.0166      0.001     23.484      0.000       0.015       0.018\n",
      "facenumber_in_poster    -0.0353      0.008     -4.530      0.000      -0.051      -0.020\n",
      "title_year              -0.0089      0.002     -5.471      0.000      -0.012      -0.006\n",
      "==============================================================================\n",
      "Omnibus:                      420.886   Durbin-Watson:                   1.900\n",
      "Prob(Omnibus):                  0.000   Jarque-Bera (JB):              690.639\n",
      "Skew:                          -0.776   Prob(JB):                    1.07e-150\n",
      "Kurtosis:                       4.396   Cond. No.                     4.13e+05\n",
      "==============================================================================\n",
      "\n",
      "Warnings:\n",
      "[1] Standard Errors assume that the covariance matrix of the errors is correctly specified.\n",
      "[2] The condition number is large, 4.13e+05. This might indicate that there are\n",
      "strong multicollinearity or other numerical problems.\n"
     ]
    }
   ],
   "source": [
    "print(runs_reg3.summary())"
   ]
  },
  {
   "cell_type": "markdown",
   "metadata": {
    "slideshow": {
     "slide_type": "skip"
    }
   },
   "source": [
    "#### Statsmodel Evaluation "
   ]
  },
  {
   "cell_type": "markdown",
   "metadata": {
    "slideshow": {
     "slide_type": "skip"
    }
   },
   "source": [
    "- The r-squared for the best model is approx. 35% which indicates that it only explains 35% of the variance within the dataset. \n",
    "- As more features are subtracted from the model it begins to perform worse. \n",
    "- Almost all of the features in all 3 models are statistically significant base on their P>|t| values of 0.000"
   ]
  },
  {
   "cell_type": "markdown",
   "metadata": {
    "slideshow": {
     "slide_type": "slide"
    }
   },
   "source": [
    "## 2. Classification Analysis "
   ]
  },
  {
   "cell_type": "markdown",
   "metadata": {
    "slideshow": {
     "slide_type": "skip"
    }
   },
   "source": [
    "### Import Packages"
   ]
  },
  {
   "cell_type": "code",
   "execution_count": 268,
   "metadata": {
    "slideshow": {
     "slide_type": "skip"
    }
   },
   "outputs": [],
   "source": [
    "# Classifiers\n",
    "#import decisiontreeclassifier\n",
    "from sklearn import tree\n",
    "from sklearn.tree import DecisionTreeClassifier\n",
    "from sklearn.tree import DecisionTreeRegressor\n",
    "\n",
    "#import logisticregression classifier\n",
    "from sklearn.linear_model import LogisticRegression\n",
    "import statsmodels.api as sm\n",
    "#import knn classifier\n",
    "from sklearn.neighbors import KNeighborsClassifier\n",
    "#import random forest classifier\n",
    "from sklearn.ensemble import RandomForestClassifier\n",
    "\n",
    "\n",
    "#for validating your classification model\n",
    "from sklearn.model_selection import train_test_split\n",
    "from sklearn.model_selection import cross_val_score\n",
    "from sklearn import metrics\n",
    "from sklearn.metrics import roc_curve, auc\n",
    "from sklearn.metrics import roc_auc_score\n",
    "\n",
    "# feature selection\n",
    "from sklearn.feature_selection import RFE\n",
    "from sklearn.ensemble import ExtraTreesClassifier\n",
    "from sklearn.feature_selection import SelectKBest\n",
    "from sklearn.feature_selection import chi2\n",
    "\n",
    "# grid search\n",
    "from sklearn.model_selection import GridSearchCV"
   ]
  },
  {
   "cell_type": "code",
   "execution_count": 269,
   "metadata": {
    "slideshow": {
     "slide_type": "slide"
    }
   },
   "outputs": [
    {
     "name": "stderr",
     "output_type": "stream",
     "text": [
      "C:\\Users\\Timot\\Anaconda3\\lib\\site-packages\\ipykernel_launcher.py:4: SettingWithCopyWarning: \n",
      "A value is trying to be set on a copy of a slice from a DataFrame.\n",
      "Try using .loc[row_indexer,col_indexer] = value instead\n",
      "\n",
      "See the caveats in the documentation: http://pandas.pydata.org/pandas-docs/stable/indexing.html#indexing-view-versus-copy\n",
      "  after removing the cwd from sys.path.\n"
     ]
    }
   ],
   "source": [
    "# Creating column for score category \n",
    "bins = [0,4,6,8,10]\n",
    "labels = ['bad','ok','good', 'excellent']\n",
    "dfCom['score_cat'] = pd.cut(dfCom['imdb_score'], bins=bins, labels=labels)"
   ]
  },
  {
   "cell_type": "code",
   "execution_count": 270,
   "metadata": {
    "scrolled": true,
    "slideshow": {
     "slide_type": "subslide"
    }
   },
   "outputs": [
    {
     "data": {
      "text/html": [
       "<div>\n",
       "<style scoped>\n",
       "    .dataframe tbody tr th:only-of-type {\n",
       "        vertical-align: middle;\n",
       "    }\n",
       "\n",
       "    .dataframe tbody tr th {\n",
       "        vertical-align: top;\n",
       "    }\n",
       "\n",
       "    .dataframe thead th {\n",
       "        text-align: right;\n",
       "    }\n",
       "</style>\n",
       "<table border=\"1\" class=\"dataframe\">\n",
       "  <thead>\n",
       "    <tr style=\"text-align: right;\">\n",
       "      <th></th>\n",
       "      <th>color</th>\n",
       "      <th>director_name</th>\n",
       "      <th>num_critic_for_reviews</th>\n",
       "      <th>duration</th>\n",
       "      <th>director_facebook_likes</th>\n",
       "      <th>actor_3_facebook_likes</th>\n",
       "      <th>actor_2_name</th>\n",
       "      <th>actor_1_facebook_likes</th>\n",
       "      <th>gross</th>\n",
       "      <th>genres</th>\n",
       "      <th>...</th>\n",
       "      <th>language</th>\n",
       "      <th>country</th>\n",
       "      <th>content_rating</th>\n",
       "      <th>budget</th>\n",
       "      <th>title_year</th>\n",
       "      <th>actor_2_facebook_likes</th>\n",
       "      <th>imdb_score</th>\n",
       "      <th>movie_facebook_likes</th>\n",
       "      <th>profit</th>\n",
       "      <th>score_cat</th>\n",
       "    </tr>\n",
       "  </thead>\n",
       "  <tbody>\n",
       "    <tr>\n",
       "      <th>0</th>\n",
       "      <td>Color</td>\n",
       "      <td>James Cameron</td>\n",
       "      <td>723.0</td>\n",
       "      <td>178.0</td>\n",
       "      <td>0.0</td>\n",
       "      <td>855.0</td>\n",
       "      <td>Joel David Moore</td>\n",
       "      <td>1000.0</td>\n",
       "      <td>760505847.0</td>\n",
       "      <td>Action|Adventure|Fantasy|Sci-Fi</td>\n",
       "      <td>...</td>\n",
       "      <td>English</td>\n",
       "      <td>USA</td>\n",
       "      <td>PG-13</td>\n",
       "      <td>237000000.0</td>\n",
       "      <td>2009.0</td>\n",
       "      <td>936.0</td>\n",
       "      <td>7.9</td>\n",
       "      <td>33000</td>\n",
       "      <td>523505847.0</td>\n",
       "      <td>good</td>\n",
       "    </tr>\n",
       "    <tr>\n",
       "      <th>1</th>\n",
       "      <td>Color</td>\n",
       "      <td>Gore Verbinski</td>\n",
       "      <td>302.0</td>\n",
       "      <td>169.0</td>\n",
       "      <td>563.0</td>\n",
       "      <td>1000.0</td>\n",
       "      <td>Orlando Bloom</td>\n",
       "      <td>40000.0</td>\n",
       "      <td>309404152.0</td>\n",
       "      <td>Action|Adventure|Fantasy</td>\n",
       "      <td>...</td>\n",
       "      <td>English</td>\n",
       "      <td>USA</td>\n",
       "      <td>PG-13</td>\n",
       "      <td>300000000.0</td>\n",
       "      <td>2007.0</td>\n",
       "      <td>5000.0</td>\n",
       "      <td>7.1</td>\n",
       "      <td>0</td>\n",
       "      <td>9404152.0</td>\n",
       "      <td>good</td>\n",
       "    </tr>\n",
       "    <tr>\n",
       "      <th>2</th>\n",
       "      <td>Color</td>\n",
       "      <td>Sam Mendes</td>\n",
       "      <td>602.0</td>\n",
       "      <td>148.0</td>\n",
       "      <td>0.0</td>\n",
       "      <td>161.0</td>\n",
       "      <td>Rory Kinnear</td>\n",
       "      <td>11000.0</td>\n",
       "      <td>200074175.0</td>\n",
       "      <td>Action|Adventure|Thriller</td>\n",
       "      <td>...</td>\n",
       "      <td>English</td>\n",
       "      <td>UK</td>\n",
       "      <td>PG-13</td>\n",
       "      <td>245000000.0</td>\n",
       "      <td>2015.0</td>\n",
       "      <td>393.0</td>\n",
       "      <td>6.8</td>\n",
       "      <td>85000</td>\n",
       "      <td>-44925825.0</td>\n",
       "      <td>good</td>\n",
       "    </tr>\n",
       "    <tr>\n",
       "      <th>3</th>\n",
       "      <td>Color</td>\n",
       "      <td>Christopher Nolan</td>\n",
       "      <td>813.0</td>\n",
       "      <td>164.0</td>\n",
       "      <td>22000.0</td>\n",
       "      <td>23000.0</td>\n",
       "      <td>Christian Bale</td>\n",
       "      <td>27000.0</td>\n",
       "      <td>448130642.0</td>\n",
       "      <td>Action|Thriller</td>\n",
       "      <td>...</td>\n",
       "      <td>English</td>\n",
       "      <td>USA</td>\n",
       "      <td>PG-13</td>\n",
       "      <td>250000000.0</td>\n",
       "      <td>2012.0</td>\n",
       "      <td>23000.0</td>\n",
       "      <td>8.5</td>\n",
       "      <td>164000</td>\n",
       "      <td>198130642.0</td>\n",
       "      <td>excellent</td>\n",
       "    </tr>\n",
       "    <tr>\n",
       "      <th>5</th>\n",
       "      <td>Color</td>\n",
       "      <td>Andrew Stanton</td>\n",
       "      <td>462.0</td>\n",
       "      <td>132.0</td>\n",
       "      <td>475.0</td>\n",
       "      <td>530.0</td>\n",
       "      <td>Samantha Morton</td>\n",
       "      <td>640.0</td>\n",
       "      <td>73058679.0</td>\n",
       "      <td>Action|Adventure|Sci-Fi</td>\n",
       "      <td>...</td>\n",
       "      <td>English</td>\n",
       "      <td>USA</td>\n",
       "      <td>PG-13</td>\n",
       "      <td>263700000.0</td>\n",
       "      <td>2012.0</td>\n",
       "      <td>632.0</td>\n",
       "      <td>6.6</td>\n",
       "      <td>24000</td>\n",
       "      <td>-190641321.0</td>\n",
       "      <td>good</td>\n",
       "    </tr>\n",
       "  </tbody>\n",
       "</table>\n",
       "<p>5 rows × 28 columns</p>\n",
       "</div>"
      ],
      "text/plain": [
       "   color      director_name  num_critic_for_reviews  duration  \\\n",
       "0  Color      James Cameron                   723.0     178.0   \n",
       "1  Color     Gore Verbinski                   302.0     169.0   \n",
       "2  Color         Sam Mendes                   602.0     148.0   \n",
       "3  Color  Christopher Nolan                   813.0     164.0   \n",
       "5  Color     Andrew Stanton                   462.0     132.0   \n",
       "\n",
       "   director_facebook_likes  actor_3_facebook_likes      actor_2_name  \\\n",
       "0                      0.0                   855.0  Joel David Moore   \n",
       "1                    563.0                  1000.0     Orlando Bloom   \n",
       "2                      0.0                   161.0      Rory Kinnear   \n",
       "3                  22000.0                 23000.0    Christian Bale   \n",
       "5                    475.0                   530.0   Samantha Morton   \n",
       "\n",
       "   actor_1_facebook_likes        gross                           genres  ...  \\\n",
       "0                  1000.0  760505847.0  Action|Adventure|Fantasy|Sci-Fi  ...   \n",
       "1                 40000.0  309404152.0         Action|Adventure|Fantasy  ...   \n",
       "2                 11000.0  200074175.0        Action|Adventure|Thriller  ...   \n",
       "3                 27000.0  448130642.0                  Action|Thriller  ...   \n",
       "5                   640.0   73058679.0          Action|Adventure|Sci-Fi  ...   \n",
       "\n",
       "  language country  content_rating       budget title_year  \\\n",
       "0  English     USA           PG-13  237000000.0     2009.0   \n",
       "1  English     USA           PG-13  300000000.0     2007.0   \n",
       "2  English      UK           PG-13  245000000.0     2015.0   \n",
       "3  English     USA           PG-13  250000000.0     2012.0   \n",
       "5  English     USA           PG-13  263700000.0     2012.0   \n",
       "\n",
       "   actor_2_facebook_likes imdb_score  movie_facebook_likes       profit  \\\n",
       "0                   936.0        7.9                 33000  523505847.0   \n",
       "1                  5000.0        7.1                     0    9404152.0   \n",
       "2                   393.0        6.8                 85000  -44925825.0   \n",
       "3                 23000.0        8.5                164000  198130642.0   \n",
       "5                   632.0        6.6                 24000 -190641321.0   \n",
       "\n",
       "   score_cat  \n",
       "0       good  \n",
       "1       good  \n",
       "2       good  \n",
       "3  excellent  \n",
       "5       good  \n",
       "\n",
       "[5 rows x 28 columns]"
      ]
     },
     "execution_count": 270,
     "metadata": {},
     "output_type": "execute_result"
    }
   ],
   "source": [
    "dfCom.head()"
   ]
  },
  {
   "cell_type": "markdown",
   "metadata": {
    "slideshow": {
     "slide_type": "slide"
    }
   },
   "source": [
    "### Categorical to Dummy Variables"
   ]
  },
  {
   "cell_type": "code",
   "execution_count": 271,
   "metadata": {
    "slideshow": {
     "slide_type": "subslide"
    }
   },
   "outputs": [],
   "source": [
    "#mappling or replacing\n",
    "dfCom = dfCom.replace({'score_cat': 'bad'}, {'score_cat': '0'})\n",
    "dfCom = dfCom.replace({'score_cat': 'ok'}, {'score_cat': '1'})\n",
    "dfCom = dfCom.replace({'score_cat': 'good'}, {'score_cat': '2'})\n",
    "dfCom = dfCom.replace({'score_cat': 'excellent'}, {'score_cat': '3'})"
   ]
  },
  {
   "cell_type": "code",
   "execution_count": 272,
   "metadata": {
    "scrolled": true,
    "slideshow": {
     "slide_type": "subslide"
    }
   },
   "outputs": [
    {
     "data": {
      "text/html": [
       "<div>\n",
       "<style scoped>\n",
       "    .dataframe tbody tr th:only-of-type {\n",
       "        vertical-align: middle;\n",
       "    }\n",
       "\n",
       "    .dataframe tbody tr th {\n",
       "        vertical-align: top;\n",
       "    }\n",
       "\n",
       "    .dataframe thead th {\n",
       "        text-align: right;\n",
       "    }\n",
       "</style>\n",
       "<table border=\"1\" class=\"dataframe\">\n",
       "  <thead>\n",
       "    <tr style=\"text-align: right;\">\n",
       "      <th></th>\n",
       "      <th>color</th>\n",
       "      <th>director_name</th>\n",
       "      <th>num_critic_for_reviews</th>\n",
       "      <th>duration</th>\n",
       "      <th>director_facebook_likes</th>\n",
       "      <th>actor_3_facebook_likes</th>\n",
       "      <th>actor_2_name</th>\n",
       "      <th>actor_1_facebook_likes</th>\n",
       "      <th>gross</th>\n",
       "      <th>genres</th>\n",
       "      <th>...</th>\n",
       "      <th>language</th>\n",
       "      <th>country</th>\n",
       "      <th>content_rating</th>\n",
       "      <th>budget</th>\n",
       "      <th>title_year</th>\n",
       "      <th>actor_2_facebook_likes</th>\n",
       "      <th>imdb_score</th>\n",
       "      <th>movie_facebook_likes</th>\n",
       "      <th>profit</th>\n",
       "      <th>score_cat</th>\n",
       "    </tr>\n",
       "  </thead>\n",
       "  <tbody>\n",
       "    <tr>\n",
       "      <th>0</th>\n",
       "      <td>Color</td>\n",
       "      <td>James Cameron</td>\n",
       "      <td>723.0</td>\n",
       "      <td>178.0</td>\n",
       "      <td>0.0</td>\n",
       "      <td>855.0</td>\n",
       "      <td>Joel David Moore</td>\n",
       "      <td>1000.0</td>\n",
       "      <td>760505847.0</td>\n",
       "      <td>Action|Adventure|Fantasy|Sci-Fi</td>\n",
       "      <td>...</td>\n",
       "      <td>English</td>\n",
       "      <td>USA</td>\n",
       "      <td>PG-13</td>\n",
       "      <td>237000000.0</td>\n",
       "      <td>2009.0</td>\n",
       "      <td>936.0</td>\n",
       "      <td>7.9</td>\n",
       "      <td>33000</td>\n",
       "      <td>523505847.0</td>\n",
       "      <td>2</td>\n",
       "    </tr>\n",
       "    <tr>\n",
       "      <th>1</th>\n",
       "      <td>Color</td>\n",
       "      <td>Gore Verbinski</td>\n",
       "      <td>302.0</td>\n",
       "      <td>169.0</td>\n",
       "      <td>563.0</td>\n",
       "      <td>1000.0</td>\n",
       "      <td>Orlando Bloom</td>\n",
       "      <td>40000.0</td>\n",
       "      <td>309404152.0</td>\n",
       "      <td>Action|Adventure|Fantasy</td>\n",
       "      <td>...</td>\n",
       "      <td>English</td>\n",
       "      <td>USA</td>\n",
       "      <td>PG-13</td>\n",
       "      <td>300000000.0</td>\n",
       "      <td>2007.0</td>\n",
       "      <td>5000.0</td>\n",
       "      <td>7.1</td>\n",
       "      <td>0</td>\n",
       "      <td>9404152.0</td>\n",
       "      <td>2</td>\n",
       "    </tr>\n",
       "    <tr>\n",
       "      <th>2</th>\n",
       "      <td>Color</td>\n",
       "      <td>Sam Mendes</td>\n",
       "      <td>602.0</td>\n",
       "      <td>148.0</td>\n",
       "      <td>0.0</td>\n",
       "      <td>161.0</td>\n",
       "      <td>Rory Kinnear</td>\n",
       "      <td>11000.0</td>\n",
       "      <td>200074175.0</td>\n",
       "      <td>Action|Adventure|Thriller</td>\n",
       "      <td>...</td>\n",
       "      <td>English</td>\n",
       "      <td>UK</td>\n",
       "      <td>PG-13</td>\n",
       "      <td>245000000.0</td>\n",
       "      <td>2015.0</td>\n",
       "      <td>393.0</td>\n",
       "      <td>6.8</td>\n",
       "      <td>85000</td>\n",
       "      <td>-44925825.0</td>\n",
       "      <td>2</td>\n",
       "    </tr>\n",
       "    <tr>\n",
       "      <th>3</th>\n",
       "      <td>Color</td>\n",
       "      <td>Christopher Nolan</td>\n",
       "      <td>813.0</td>\n",
       "      <td>164.0</td>\n",
       "      <td>22000.0</td>\n",
       "      <td>23000.0</td>\n",
       "      <td>Christian Bale</td>\n",
       "      <td>27000.0</td>\n",
       "      <td>448130642.0</td>\n",
       "      <td>Action|Thriller</td>\n",
       "      <td>...</td>\n",
       "      <td>English</td>\n",
       "      <td>USA</td>\n",
       "      <td>PG-13</td>\n",
       "      <td>250000000.0</td>\n",
       "      <td>2012.0</td>\n",
       "      <td>23000.0</td>\n",
       "      <td>8.5</td>\n",
       "      <td>164000</td>\n",
       "      <td>198130642.0</td>\n",
       "      <td>3</td>\n",
       "    </tr>\n",
       "    <tr>\n",
       "      <th>5</th>\n",
       "      <td>Color</td>\n",
       "      <td>Andrew Stanton</td>\n",
       "      <td>462.0</td>\n",
       "      <td>132.0</td>\n",
       "      <td>475.0</td>\n",
       "      <td>530.0</td>\n",
       "      <td>Samantha Morton</td>\n",
       "      <td>640.0</td>\n",
       "      <td>73058679.0</td>\n",
       "      <td>Action|Adventure|Sci-Fi</td>\n",
       "      <td>...</td>\n",
       "      <td>English</td>\n",
       "      <td>USA</td>\n",
       "      <td>PG-13</td>\n",
       "      <td>263700000.0</td>\n",
       "      <td>2012.0</td>\n",
       "      <td>632.0</td>\n",
       "      <td>6.6</td>\n",
       "      <td>24000</td>\n",
       "      <td>-190641321.0</td>\n",
       "      <td>2</td>\n",
       "    </tr>\n",
       "  </tbody>\n",
       "</table>\n",
       "<p>5 rows × 28 columns</p>\n",
       "</div>"
      ],
      "text/plain": [
       "   color      director_name  num_critic_for_reviews  duration  \\\n",
       "0  Color      James Cameron                   723.0     178.0   \n",
       "1  Color     Gore Verbinski                   302.0     169.0   \n",
       "2  Color         Sam Mendes                   602.0     148.0   \n",
       "3  Color  Christopher Nolan                   813.0     164.0   \n",
       "5  Color     Andrew Stanton                   462.0     132.0   \n",
       "\n",
       "   director_facebook_likes  actor_3_facebook_likes      actor_2_name  \\\n",
       "0                      0.0                   855.0  Joel David Moore   \n",
       "1                    563.0                  1000.0     Orlando Bloom   \n",
       "2                      0.0                   161.0      Rory Kinnear   \n",
       "3                  22000.0                 23000.0    Christian Bale   \n",
       "5                    475.0                   530.0   Samantha Morton   \n",
       "\n",
       "   actor_1_facebook_likes        gross                           genres  ...  \\\n",
       "0                  1000.0  760505847.0  Action|Adventure|Fantasy|Sci-Fi  ...   \n",
       "1                 40000.0  309404152.0         Action|Adventure|Fantasy  ...   \n",
       "2                 11000.0  200074175.0        Action|Adventure|Thriller  ...   \n",
       "3                 27000.0  448130642.0                  Action|Thriller  ...   \n",
       "5                   640.0   73058679.0          Action|Adventure|Sci-Fi  ...   \n",
       "\n",
       "  language country  content_rating       budget title_year  \\\n",
       "0  English     USA           PG-13  237000000.0     2009.0   \n",
       "1  English     USA           PG-13  300000000.0     2007.0   \n",
       "2  English      UK           PG-13  245000000.0     2015.0   \n",
       "3  English     USA           PG-13  250000000.0     2012.0   \n",
       "5  English     USA           PG-13  263700000.0     2012.0   \n",
       "\n",
       "   actor_2_facebook_likes imdb_score  movie_facebook_likes       profit  \\\n",
       "0                   936.0        7.9                 33000  523505847.0   \n",
       "1                  5000.0        7.1                     0    9404152.0   \n",
       "2                   393.0        6.8                 85000  -44925825.0   \n",
       "3                 23000.0        8.5                164000  198130642.0   \n",
       "5                   632.0        6.6                 24000 -190641321.0   \n",
       "\n",
       "  score_cat  \n",
       "0         2  \n",
       "1         2  \n",
       "2         2  \n",
       "3         3  \n",
       "5         2  \n",
       "\n",
       "[5 rows x 28 columns]"
      ]
     },
     "execution_count": 272,
     "metadata": {},
     "output_type": "execute_result"
    }
   ],
   "source": [
    "dfCom.head()"
   ]
  },
  {
   "cell_type": "code",
   "execution_count": 273,
   "metadata": {
    "slideshow": {
     "slide_type": "subslide"
    }
   },
   "outputs": [
    {
     "data": {
      "text/html": [
       "<div>\n",
       "<style scoped>\n",
       "    .dataframe tbody tr th:only-of-type {\n",
       "        vertical-align: middle;\n",
       "    }\n",
       "\n",
       "    .dataframe tbody tr th {\n",
       "        vertical-align: top;\n",
       "    }\n",
       "\n",
       "    .dataframe thead th {\n",
       "        text-align: right;\n",
       "    }\n",
       "</style>\n",
       "<table border=\"1\" class=\"dataframe\">\n",
       "  <thead>\n",
       "    <tr style=\"text-align: right;\">\n",
       "      <th></th>\n",
       "      <th>director_name</th>\n",
       "      <th>num_critic_for_reviews</th>\n",
       "      <th>duration</th>\n",
       "      <th>director_facebook_likes</th>\n",
       "      <th>actor_3_facebook_likes</th>\n",
       "      <th>actor_2_name</th>\n",
       "      <th>actor_1_facebook_likes</th>\n",
       "      <th>gross</th>\n",
       "      <th>genres</th>\n",
       "      <th>actor_1_name</th>\n",
       "      <th>...</th>\n",
       "      <th>content_rating_GP</th>\n",
       "      <th>content_rating_M</th>\n",
       "      <th>content_rating_NC-17</th>\n",
       "      <th>content_rating_Not Rated</th>\n",
       "      <th>content_rating_PG</th>\n",
       "      <th>content_rating_PG-13</th>\n",
       "      <th>content_rating_Passed</th>\n",
       "      <th>content_rating_R</th>\n",
       "      <th>content_rating_Unrated</th>\n",
       "      <th>content_rating_X</th>\n",
       "    </tr>\n",
       "  </thead>\n",
       "  <tbody>\n",
       "    <tr>\n",
       "      <th>0</th>\n",
       "      <td>James Cameron</td>\n",
       "      <td>723.0</td>\n",
       "      <td>178.0</td>\n",
       "      <td>0.0</td>\n",
       "      <td>855.0</td>\n",
       "      <td>Joel David Moore</td>\n",
       "      <td>1000.0</td>\n",
       "      <td>760505847.0</td>\n",
       "      <td>Action|Adventure|Fantasy|Sci-Fi</td>\n",
       "      <td>CCH Pounder</td>\n",
       "      <td>...</td>\n",
       "      <td>0</td>\n",
       "      <td>0</td>\n",
       "      <td>0</td>\n",
       "      <td>0</td>\n",
       "      <td>0</td>\n",
       "      <td>1</td>\n",
       "      <td>0</td>\n",
       "      <td>0</td>\n",
       "      <td>0</td>\n",
       "      <td>0</td>\n",
       "    </tr>\n",
       "    <tr>\n",
       "      <th>1</th>\n",
       "      <td>Gore Verbinski</td>\n",
       "      <td>302.0</td>\n",
       "      <td>169.0</td>\n",
       "      <td>563.0</td>\n",
       "      <td>1000.0</td>\n",
       "      <td>Orlando Bloom</td>\n",
       "      <td>40000.0</td>\n",
       "      <td>309404152.0</td>\n",
       "      <td>Action|Adventure|Fantasy</td>\n",
       "      <td>Johnny Depp</td>\n",
       "      <td>...</td>\n",
       "      <td>0</td>\n",
       "      <td>0</td>\n",
       "      <td>0</td>\n",
       "      <td>0</td>\n",
       "      <td>0</td>\n",
       "      <td>1</td>\n",
       "      <td>0</td>\n",
       "      <td>0</td>\n",
       "      <td>0</td>\n",
       "      <td>0</td>\n",
       "    </tr>\n",
       "  </tbody>\n",
       "</table>\n",
       "<p>2 rows × 114 columns</p>\n",
       "</div>"
      ],
      "text/plain": [
       "    director_name  num_critic_for_reviews  duration  director_facebook_likes  \\\n",
       "0   James Cameron                   723.0     178.0                      0.0   \n",
       "1  Gore Verbinski                   302.0     169.0                    563.0   \n",
       "\n",
       "   actor_3_facebook_likes      actor_2_name  actor_1_facebook_likes  \\\n",
       "0                   855.0  Joel David Moore                  1000.0   \n",
       "1                  1000.0     Orlando Bloom                 40000.0   \n",
       "\n",
       "         gross                           genres actor_1_name  ...  \\\n",
       "0  760505847.0  Action|Adventure|Fantasy|Sci-Fi  CCH Pounder  ...   \n",
       "1  309404152.0         Action|Adventure|Fantasy  Johnny Depp  ...   \n",
       "\n",
       "  content_rating_GP  content_rating_M  content_rating_NC-17  \\\n",
       "0                 0                 0                     0   \n",
       "1                 0                 0                     0   \n",
       "\n",
       "  content_rating_Not Rated  content_rating_PG content_rating_PG-13  \\\n",
       "0                        0                  0                    1   \n",
       "1                        0                  0                    1   \n",
       "\n",
       "   content_rating_Passed  content_rating_R  content_rating_Unrated  \\\n",
       "0                      0                 0                       0   \n",
       "1                      0                 0                       0   \n",
       "\n",
       "   content_rating_X  \n",
       "0                 0  \n",
       "1                 0  \n",
       "\n",
       "[2 rows x 114 columns]"
      ]
     },
     "execution_count": 273,
     "metadata": {},
     "output_type": "execute_result"
    }
   ],
   "source": [
    "df1 =  pd.get_dummies(dfCom, columns=[\"color\", \"language\", \"country\", \"content_rating\"],\n",
    "                         prefix=[\"color\", \"language\", \"country\", \"content_rating\"],\n",
    "                         drop_first=True)\n",
    "df1.head(2)"
   ]
  },
  {
   "cell_type": "markdown",
   "metadata": {
    "slideshow": {
     "slide_type": "slide"
    }
   },
   "source": [
    "### Decision Tree Classifier"
   ]
  },
  {
   "cell_type": "code",
   "execution_count": 274,
   "metadata": {
    "slideshow": {
     "slide_type": "subslide"
    }
   },
   "outputs": [
    {
     "name": "stdout",
     "output_type": "stream",
     "text": [
      "(3804, 106) (3804,)\n"
     ]
    }
   ],
   "source": [
    "# declare X variables and y variable\n",
    "\n",
    "y = df1['score_cat']\n",
    "X = df1.drop(['score_cat','director_name','actor_2_name','actor_1_name','actor_3_name','plot_keywords','genres','movie_title'], axis =1)\n",
    "print(X.shape, y.shape)"
   ]
  },
  {
   "cell_type": "code",
   "execution_count": 275,
   "metadata": {
    "slideshow": {
     "slide_type": "subslide"
    }
   },
   "outputs": [],
   "source": [
    "# split validation\n",
    "X_train, X_test, y_train, y_test = train_test_split(X, y, test_size=0.3)\n",
    "X_train.head()\n",
    "\n",
    "# Initialize DecisionTreeRegressor() ... name your decision model \"dt\"\n",
    "dt = DecisionTreeClassifier()\n",
    "\n",
    "# Train a decision tree model\n",
    "dt = dt.fit(X_train,y_train)"
   ]
  },
  {
   "cell_type": "code",
   "execution_count": 276,
   "metadata": {
    "slideshow": {
     "slide_type": "subslide"
    }
   },
   "outputs": [
    {
     "name": "stdout",
     "output_type": "stream",
     "text": [
      "1.0\n",
      "--------------------------------------------------------\n",
      "[[ 35   0   0   0]\n",
      " [  0 319   0   0]\n",
      " [  0   0 742   0]\n",
      " [  0   0   0  46]]\n",
      "--------------------------------------------------------\n",
      "              precision    recall  f1-score   support\n",
      "\n",
      "           0       1.00      1.00      1.00        35\n",
      "           1       1.00      1.00      1.00       319\n",
      "           2       1.00      1.00      1.00       742\n",
      "           3       1.00      1.00      1.00        46\n",
      "\n",
      "    accuracy                           1.00      1142\n",
      "   macro avg       1.00      1.00      1.00      1142\n",
      "weighted avg       1.00      1.00      1.00      1142\n",
      "\n",
      "--------------------------------------------------------\n"
     ]
    }
   ],
   "source": [
    "#Model evaluation\n",
    "# http://scikit-learn.org/stable/modules/model_evaluation.html\n",
    "print(metrics.accuracy_score(y_test, dt.predict(X_test)))\n",
    "print(\"--------------------------------------------------------\")\n",
    "print(metrics.confusion_matrix(y_test, dt.predict(X_test))) \n",
    "print(\"--------------------------------------------------------\")\n",
    "print(metrics.classification_report(y_test, dt.predict(X_test)))\n",
    "print(\"--------------------------------------------------------\")\n",
    "#print(metrics.roc_auc_score(y_test, dt.predict(X_test)))\n",
    "\n",
    "# y-test is the acual y value in the testing dataset\n",
    "# dt.predict(X_test) is the predicted y value generated by your model\n",
    "# If they are same, we can say your model is accurate."
   ]
  },
  {
   "cell_type": "markdown",
   "metadata": {
    "slideshow": {
     "slide_type": "slide"
    }
   },
   "source": [
    "### Logistic Regression"
   ]
  },
  {
   "cell_type": "code",
   "execution_count": 277,
   "metadata": {
    "slideshow": {
     "slide_type": "subslide"
    }
   },
   "outputs": [
    {
     "name": "stderr",
     "output_type": "stream",
     "text": [
      "C:\\Users\\Timot\\Anaconda3\\lib\\site-packages\\sklearn\\linear_model\\logistic.py:469: FutureWarning: Default multi_class will be changed to 'auto' in 0.22. Specify the multi_class option to silence this warning.\n",
      "  \"this warning.\", FutureWarning)\n"
     ]
    },
    {
     "name": "stdout",
     "output_type": "stream",
     "text": [
      "0.6751313485113836\n",
      "[[  0   1  26   0]\n",
      " [  0  10 312   0]\n",
      " [  0   5 741   2]\n",
      " [  0   0  25  20]]\n",
      "              precision    recall  f1-score   support\n",
      "\n",
      "           0       0.00      0.00      0.00        27\n",
      "           1       0.62      0.03      0.06       322\n",
      "           2       0.67      0.99      0.80       748\n",
      "           3       0.91      0.44      0.60        45\n",
      "\n",
      "    accuracy                           0.68      1142\n",
      "   macro avg       0.55      0.37      0.36      1142\n",
      "weighted avg       0.65      0.68      0.56      1142\n",
      "\n"
     ]
    },
    {
     "name": "stderr",
     "output_type": "stream",
     "text": [
      "C:\\Users\\Timot\\Anaconda3\\lib\\site-packages\\sklearn\\metrics\\classification.py:1437: UndefinedMetricWarning: Precision and F-score are ill-defined and being set to 0.0 in labels with no predicted samples.\n",
      "  'precision', 'predicted', average, warn_for)\n"
     ]
    }
   ],
   "source": [
    "X_train, X_test, y_train, y_test = train_test_split(X, y, test_size=0.3, random_state=0)\n",
    "lr = LogisticRegression(solver='lbfgs', max_iter=500)\n",
    "lr.fit(X_train, y_train)\n",
    "\n",
    "\n",
    "print(metrics.accuracy_score(y_test, lr.predict(X_test)))\n",
    "print(metrics.confusion_matrix(y_test, lr.predict(X_test)))\n",
    "print(metrics.classification_report(y_test, lr.predict(X_test)))\n"
   ]
  },
  {
   "cell_type": "markdown",
   "metadata": {
    "slideshow": {
     "slide_type": "skip"
    }
   },
   "source": [
    "### Results"
   ]
  },
  {
   "cell_type": "markdown",
   "metadata": {
    "slideshow": {
     "slide_type": "skip"
    }
   },
   "source": [
    "- The decision tree classifier is the most accurate with an accuracy of 100% \n",
    "- The Logistic regression model failed to impress with it's accuracy of only 67.5%"
   ]
  },
  {
   "cell_type": "markdown",
   "metadata": {
    "slideshow": {
     "slide_type": "slide"
    }
   },
   "source": [
    "## 3. Clustering "
   ]
  },
  {
   "cell_type": "markdown",
   "metadata": {
    "slideshow": {
     "slide_type": "skip"
    }
   },
   "source": [
    "### Import Packages "
   ]
  },
  {
   "cell_type": "code",
   "execution_count": 278,
   "metadata": {
    "slideshow": {
     "slide_type": "skip"
    }
   },
   "outputs": [],
   "source": [
    "from sklearn.cluster import KMeans\n",
    "\n",
    "from sklearn.cluster import AgglomerativeClustering\n",
    "from scipy.cluster.hierarchy import dendrogram, linkage, ward"
   ]
  },
  {
   "cell_type": "markdown",
   "metadata": {
    "slideshow": {
     "slide_type": "slide"
    }
   },
   "source": [
    "### K Means Analysis"
   ]
  },
  {
   "cell_type": "code",
   "execution_count": 279,
   "metadata": {
    "slideshow": {
     "slide_type": "subslide"
    }
   },
   "outputs": [],
   "source": [
    "k_means = KMeans(init='k-means++', n_clusters=5, random_state=0)"
   ]
  },
  {
   "cell_type": "code",
   "execution_count": 280,
   "metadata": {
    "slideshow": {
     "slide_type": "subslide"
    }
   },
   "outputs": [
    {
     "data": {
      "text/plain": [
       "KMeans(algorithm='auto', copy_x=True, init='k-means++', max_iter=300,\n",
       "       n_clusters=5, n_init=10, n_jobs=None, precompute_distances='auto',\n",
       "       random_state=0, tol=0.0001, verbose=0)"
      ]
     },
     "execution_count": 280,
     "metadata": {},
     "output_type": "execute_result"
    }
   ],
   "source": [
    "k_means.fit(df1.drop(['score_cat','director_name','actor_2_name','actor_1_name','actor_3_name','plot_keywords','genres','movie_title'], axis =1))"
   ]
  },
  {
   "cell_type": "code",
   "execution_count": 281,
   "metadata": {
    "slideshow": {
     "slide_type": "skip"
    }
   },
   "outputs": [
    {
     "data": {
      "text/plain": [
       "array([0, 0, 0, ..., 3, 3, 3])"
      ]
     },
     "execution_count": 281,
     "metadata": {},
     "output_type": "execute_result"
    }
   ],
   "source": [
    "#clustering results\n",
    "k_means.labels_"
   ]
  },
  {
   "cell_type": "code",
   "execution_count": 282,
   "metadata": {
    "slideshow": {
     "slide_type": "skip"
    }
   },
   "outputs": [
    {
     "data": {
      "text/html": [
       "<div>\n",
       "<style scoped>\n",
       "    .dataframe tbody tr th:only-of-type {\n",
       "        vertical-align: middle;\n",
       "    }\n",
       "\n",
       "    .dataframe tbody tr th {\n",
       "        vertical-align: top;\n",
       "    }\n",
       "\n",
       "    .dataframe thead th {\n",
       "        text-align: right;\n",
       "    }\n",
       "</style>\n",
       "<table border=\"1\" class=\"dataframe\">\n",
       "  <thead>\n",
       "    <tr style=\"text-align: right;\">\n",
       "      <th></th>\n",
       "      <th>cluster</th>\n",
       "    </tr>\n",
       "  </thead>\n",
       "  <tbody>\n",
       "    <tr>\n",
       "      <th>0</th>\n",
       "      <td>0</td>\n",
       "    </tr>\n",
       "    <tr>\n",
       "      <th>1</th>\n",
       "      <td>0</td>\n",
       "    </tr>\n",
       "    <tr>\n",
       "      <th>2</th>\n",
       "      <td>0</td>\n",
       "    </tr>\n",
       "    <tr>\n",
       "      <th>3</th>\n",
       "      <td>0</td>\n",
       "    </tr>\n",
       "    <tr>\n",
       "      <th>4</th>\n",
       "      <td>3</td>\n",
       "    </tr>\n",
       "  </tbody>\n",
       "</table>\n",
       "</div>"
      ],
      "text/plain": [
       "   cluster\n",
       "0        0\n",
       "1        0\n",
       "2        0\n",
       "3        0\n",
       "4        3"
      ]
     },
     "execution_count": 282,
     "metadata": {},
     "output_type": "execute_result"
    }
   ],
   "source": [
    "#To add cluster label into the dataset as a column\n",
    "df2 = pd.DataFrame(k_means.labels_, columns = ['cluster'])\n",
    "df2.head()"
   ]
  },
  {
   "cell_type": "code",
   "execution_count": 283,
   "metadata": {
    "slideshow": {
     "slide_type": "subslide"
    }
   },
   "outputs": [
    {
     "data": {
      "text/html": [
       "<div>\n",
       "<style scoped>\n",
       "    .dataframe tbody tr th:only-of-type {\n",
       "        vertical-align: middle;\n",
       "    }\n",
       "\n",
       "    .dataframe tbody tr th {\n",
       "        vertical-align: top;\n",
       "    }\n",
       "\n",
       "    .dataframe thead th {\n",
       "        text-align: right;\n",
       "    }\n",
       "</style>\n",
       "<table border=\"1\" class=\"dataframe\">\n",
       "  <thead>\n",
       "    <tr style=\"text-align: right;\">\n",
       "      <th></th>\n",
       "      <th>color</th>\n",
       "      <th>director_name</th>\n",
       "      <th>num_critic_for_reviews</th>\n",
       "      <th>duration</th>\n",
       "      <th>director_facebook_likes</th>\n",
       "      <th>actor_3_facebook_likes</th>\n",
       "      <th>actor_2_name</th>\n",
       "      <th>actor_1_facebook_likes</th>\n",
       "      <th>gross</th>\n",
       "      <th>genres</th>\n",
       "      <th>...</th>\n",
       "      <th>language</th>\n",
       "      <th>country</th>\n",
       "      <th>content_rating</th>\n",
       "      <th>budget</th>\n",
       "      <th>title_year</th>\n",
       "      <th>actor_2_facebook_likes</th>\n",
       "      <th>imdb_score</th>\n",
       "      <th>aspect_ratio</th>\n",
       "      <th>movie_facebook_likes</th>\n",
       "      <th>cluster</th>\n",
       "    </tr>\n",
       "  </thead>\n",
       "  <tbody>\n",
       "    <tr>\n",
       "      <th>0</th>\n",
       "      <td>Color</td>\n",
       "      <td>James Cameron</td>\n",
       "      <td>723.0</td>\n",
       "      <td>178.0</td>\n",
       "      <td>0.0</td>\n",
       "      <td>855.0</td>\n",
       "      <td>Joel David Moore</td>\n",
       "      <td>1000.0</td>\n",
       "      <td>760505847.0</td>\n",
       "      <td>Action|Adventure|Fantasy|Sci-Fi</td>\n",
       "      <td>...</td>\n",
       "      <td>English</td>\n",
       "      <td>USA</td>\n",
       "      <td>PG-13</td>\n",
       "      <td>237000000.0</td>\n",
       "      <td>2009.0</td>\n",
       "      <td>936.0</td>\n",
       "      <td>7.9</td>\n",
       "      <td>1.78</td>\n",
       "      <td>33000</td>\n",
       "      <td>0.0</td>\n",
       "    </tr>\n",
       "    <tr>\n",
       "      <th>1</th>\n",
       "      <td>Color</td>\n",
       "      <td>Gore Verbinski</td>\n",
       "      <td>302.0</td>\n",
       "      <td>169.0</td>\n",
       "      <td>563.0</td>\n",
       "      <td>1000.0</td>\n",
       "      <td>Orlando Bloom</td>\n",
       "      <td>40000.0</td>\n",
       "      <td>309404152.0</td>\n",
       "      <td>Action|Adventure|Fantasy</td>\n",
       "      <td>...</td>\n",
       "      <td>English</td>\n",
       "      <td>USA</td>\n",
       "      <td>PG-13</td>\n",
       "      <td>300000000.0</td>\n",
       "      <td>2007.0</td>\n",
       "      <td>5000.0</td>\n",
       "      <td>7.1</td>\n",
       "      <td>2.35</td>\n",
       "      <td>0</td>\n",
       "      <td>0.0</td>\n",
       "    </tr>\n",
       "    <tr>\n",
       "      <th>2</th>\n",
       "      <td>Color</td>\n",
       "      <td>Sam Mendes</td>\n",
       "      <td>602.0</td>\n",
       "      <td>148.0</td>\n",
       "      <td>0.0</td>\n",
       "      <td>161.0</td>\n",
       "      <td>Rory Kinnear</td>\n",
       "      <td>11000.0</td>\n",
       "      <td>200074175.0</td>\n",
       "      <td>Action|Adventure|Thriller</td>\n",
       "      <td>...</td>\n",
       "      <td>English</td>\n",
       "      <td>UK</td>\n",
       "      <td>PG-13</td>\n",
       "      <td>245000000.0</td>\n",
       "      <td>2015.0</td>\n",
       "      <td>393.0</td>\n",
       "      <td>6.8</td>\n",
       "      <td>2.35</td>\n",
       "      <td>85000</td>\n",
       "      <td>0.0</td>\n",
       "    </tr>\n",
       "    <tr>\n",
       "      <th>3</th>\n",
       "      <td>Color</td>\n",
       "      <td>Christopher Nolan</td>\n",
       "      <td>813.0</td>\n",
       "      <td>164.0</td>\n",
       "      <td>22000.0</td>\n",
       "      <td>23000.0</td>\n",
       "      <td>Christian Bale</td>\n",
       "      <td>27000.0</td>\n",
       "      <td>448130642.0</td>\n",
       "      <td>Action|Thriller</td>\n",
       "      <td>...</td>\n",
       "      <td>English</td>\n",
       "      <td>USA</td>\n",
       "      <td>PG-13</td>\n",
       "      <td>250000000.0</td>\n",
       "      <td>2012.0</td>\n",
       "      <td>23000.0</td>\n",
       "      <td>8.5</td>\n",
       "      <td>2.35</td>\n",
       "      <td>164000</td>\n",
       "      <td>0.0</td>\n",
       "    </tr>\n",
       "    <tr>\n",
       "      <th>4</th>\n",
       "      <td>NaN</td>\n",
       "      <td>Doug Walker</td>\n",
       "      <td>NaN</td>\n",
       "      <td>NaN</td>\n",
       "      <td>131.0</td>\n",
       "      <td>NaN</td>\n",
       "      <td>Rob Walker</td>\n",
       "      <td>131.0</td>\n",
       "      <td>NaN</td>\n",
       "      <td>Documentary</td>\n",
       "      <td>...</td>\n",
       "      <td>NaN</td>\n",
       "      <td>NaN</td>\n",
       "      <td>NaN</td>\n",
       "      <td>NaN</td>\n",
       "      <td>NaN</td>\n",
       "      <td>12.0</td>\n",
       "      <td>7.1</td>\n",
       "      <td>NaN</td>\n",
       "      <td>0</td>\n",
       "      <td>3.0</td>\n",
       "    </tr>\n",
       "  </tbody>\n",
       "</table>\n",
       "<p>5 rows × 29 columns</p>\n",
       "</div>"
      ],
      "text/plain": [
       "   color      director_name  num_critic_for_reviews  duration  \\\n",
       "0  Color      James Cameron                   723.0     178.0   \n",
       "1  Color     Gore Verbinski                   302.0     169.0   \n",
       "2  Color         Sam Mendes                   602.0     148.0   \n",
       "3  Color  Christopher Nolan                   813.0     164.0   \n",
       "4    NaN        Doug Walker                     NaN       NaN   \n",
       "\n",
       "   director_facebook_likes  actor_3_facebook_likes      actor_2_name  \\\n",
       "0                      0.0                   855.0  Joel David Moore   \n",
       "1                    563.0                  1000.0     Orlando Bloom   \n",
       "2                      0.0                   161.0      Rory Kinnear   \n",
       "3                  22000.0                 23000.0    Christian Bale   \n",
       "4                    131.0                     NaN        Rob Walker   \n",
       "\n",
       "   actor_1_facebook_likes        gross                           genres  ...  \\\n",
       "0                  1000.0  760505847.0  Action|Adventure|Fantasy|Sci-Fi  ...   \n",
       "1                 40000.0  309404152.0         Action|Adventure|Fantasy  ...   \n",
       "2                 11000.0  200074175.0        Action|Adventure|Thriller  ...   \n",
       "3                 27000.0  448130642.0                  Action|Thriller  ...   \n",
       "4                   131.0          NaN                      Documentary  ...   \n",
       "\n",
       "  language country  content_rating       budget title_year  \\\n",
       "0  English     USA           PG-13  237000000.0     2009.0   \n",
       "1  English     USA           PG-13  300000000.0     2007.0   \n",
       "2  English      UK           PG-13  245000000.0     2015.0   \n",
       "3  English     USA           PG-13  250000000.0     2012.0   \n",
       "4      NaN     NaN             NaN          NaN        NaN   \n",
       "\n",
       "   actor_2_facebook_likes imdb_score aspect_ratio  movie_facebook_likes  \\\n",
       "0                   936.0        7.9         1.78                 33000   \n",
       "1                  5000.0        7.1         2.35                     0   \n",
       "2                   393.0        6.8         2.35                 85000   \n",
       "3                 23000.0        8.5         2.35                164000   \n",
       "4                    12.0        7.1          NaN                     0   \n",
       "\n",
       "  cluster  \n",
       "0     0.0  \n",
       "1     0.0  \n",
       "2     0.0  \n",
       "3     0.0  \n",
       "4     3.0  \n",
       "\n",
       "[5 rows x 29 columns]"
      ]
     },
     "execution_count": 283,
     "metadata": {},
     "output_type": "execute_result"
    }
   ],
   "source": [
    "# Joining Clustering data to original data\n",
    "df1 = df.join(df2)\n",
    "df1.head()"
   ]
  },
  {
   "cell_type": "markdown",
   "metadata": {
    "slideshow": {
     "slide_type": "subslide"
    }
   },
   "source": [
    "### Identifying Clusters (Profiling)"
   ]
  },
  {
   "cell_type": "code",
   "execution_count": 284,
   "metadata": {
    "slideshow": {
     "slide_type": "subslide"
    }
   },
   "outputs": [
    {
     "data": {
      "text/html": [
       "<div>\n",
       "<style scoped>\n",
       "    .dataframe tbody tr th:only-of-type {\n",
       "        vertical-align: middle;\n",
       "    }\n",
       "\n",
       "    .dataframe tbody tr th {\n",
       "        vertical-align: top;\n",
       "    }\n",
       "\n",
       "    .dataframe thead th {\n",
       "        text-align: right;\n",
       "    }\n",
       "</style>\n",
       "<table border=\"1\" class=\"dataframe\">\n",
       "  <thead>\n",
       "    <tr style=\"text-align: right;\">\n",
       "      <th></th>\n",
       "      <th>num_critic_for_reviews</th>\n",
       "      <th>duration</th>\n",
       "      <th>director_facebook_likes</th>\n",
       "      <th>actor_3_facebook_likes</th>\n",
       "      <th>actor_1_facebook_likes</th>\n",
       "      <th>gross</th>\n",
       "      <th>num_voted_users</th>\n",
       "      <th>cast_total_facebook_likes</th>\n",
       "      <th>facenumber_in_poster</th>\n",
       "      <th>num_user_for_reviews</th>\n",
       "      <th>budget</th>\n",
       "      <th>title_year</th>\n",
       "      <th>actor_2_facebook_likes</th>\n",
       "      <th>imdb_score</th>\n",
       "      <th>aspect_ratio</th>\n",
       "      <th>movie_facebook_likes</th>\n",
       "    </tr>\n",
       "    <tr>\n",
       "      <th>cluster</th>\n",
       "      <th></th>\n",
       "      <th></th>\n",
       "      <th></th>\n",
       "      <th></th>\n",
       "      <th></th>\n",
       "      <th></th>\n",
       "      <th></th>\n",
       "      <th></th>\n",
       "      <th></th>\n",
       "      <th></th>\n",
       "      <th></th>\n",
       "      <th></th>\n",
       "      <th></th>\n",
       "      <th></th>\n",
       "      <th></th>\n",
       "      <th></th>\n",
       "    </tr>\n",
       "  </thead>\n",
       "  <tbody>\n",
       "    <tr>\n",
       "      <th>0.0</th>\n",
       "      <td>229.760504</td>\n",
       "      <td>116.987368</td>\n",
       "      <td>1005.220339</td>\n",
       "      <td>1291.743697</td>\n",
       "      <td>9908.968487</td>\n",
       "      <td>1.064584e+08</td>\n",
       "      <td>174598.256303</td>\n",
       "      <td>15846.894958</td>\n",
       "      <td>1.327004</td>\n",
       "      <td>547.970588</td>\n",
       "      <td>9.054146e+07</td>\n",
       "      <td>2005.682203</td>\n",
       "      <td>3224.306723</td>\n",
       "      <td>6.496008</td>\n",
       "      <td>2.213212</td>\n",
       "      <td>16471.331933</td>\n",
       "    </tr>\n",
       "    <tr>\n",
       "      <th>1.0</th>\n",
       "      <td>221.000000</td>\n",
       "      <td>107.000000</td>\n",
       "      <td>92.000000</td>\n",
       "      <td>358.000000</td>\n",
       "      <td>11000.000000</td>\n",
       "      <td>1.376601e+07</td>\n",
       "      <td>106111.000000</td>\n",
       "      <td>17627.000000</td>\n",
       "      <td>0.000000</td>\n",
       "      <td>181.000000</td>\n",
       "      <td>1.500000e+07</td>\n",
       "      <td>2011.000000</td>\n",
       "      <td>5000.000000</td>\n",
       "      <td>7.000000</td>\n",
       "      <td>2.350000</td>\n",
       "      <td>49000.000000</td>\n",
       "    </tr>\n",
       "    <tr>\n",
       "      <th>2.0</th>\n",
       "      <td>154.500000</td>\n",
       "      <td>103.750000</td>\n",
       "      <td>108.250000</td>\n",
       "      <td>453.000000</td>\n",
       "      <td>7627.250000</td>\n",
       "      <td>1.251112e+07</td>\n",
       "      <td>95041.250000</td>\n",
       "      <td>9205.500000</td>\n",
       "      <td>0.000000</td>\n",
       "      <td>316.750000</td>\n",
       "      <td>1.887500e+07</td>\n",
       "      <td>2004.500000</td>\n",
       "      <td>783.500000</td>\n",
       "      <td>7.025000</td>\n",
       "      <td>2.225000</td>\n",
       "      <td>4000.000000</td>\n",
       "    </tr>\n",
       "    <tr>\n",
       "      <th>3.0</th>\n",
       "      <td>147.646596</td>\n",
       "      <td>109.292572</td>\n",
       "      <td>768.710015</td>\n",
       "      <td>694.714933</td>\n",
       "      <td>7253.708384</td>\n",
       "      <td>4.871028e+07</td>\n",
       "      <td>90346.900181</td>\n",
       "      <td>10706.244270</td>\n",
       "      <td>1.427234</td>\n",
       "      <td>283.993652</td>\n",
       "      <td>4.183053e+07</td>\n",
       "      <td>2002.979636</td>\n",
       "      <td>1829.580012</td>\n",
       "      <td>6.426960</td>\n",
       "      <td>2.222464</td>\n",
       "      <td>7852.703860</td>\n",
       "    </tr>\n",
       "    <tr>\n",
       "      <th>4.0</th>\n",
       "      <td>94.857143</td>\n",
       "      <td>105.285714</td>\n",
       "      <td>32.285714</td>\n",
       "      <td>421.714286</td>\n",
       "      <td>5997.285714</td>\n",
       "      <td>3.482547e+07</td>\n",
       "      <td>41683.285714</td>\n",
       "      <td>7861.142857</td>\n",
       "      <td>1.714286</td>\n",
       "      <td>214.142857</td>\n",
       "      <td>2.200000e+07</td>\n",
       "      <td>1996.285714</td>\n",
       "      <td>818.285714</td>\n",
       "      <td>6.357143</td>\n",
       "      <td>1.982857</td>\n",
       "      <td>2592.857143</td>\n",
       "    </tr>\n",
       "  </tbody>\n",
       "</table>\n",
       "</div>"
      ],
      "text/plain": [
       "         num_critic_for_reviews    duration  director_facebook_likes  \\\n",
       "cluster                                                                \n",
       "0.0                  229.760504  116.987368              1005.220339   \n",
       "1.0                  221.000000  107.000000                92.000000   \n",
       "2.0                  154.500000  103.750000               108.250000   \n",
       "3.0                  147.646596  109.292572               768.710015   \n",
       "4.0                   94.857143  105.285714                32.285714   \n",
       "\n",
       "         actor_3_facebook_likes  actor_1_facebook_likes         gross  \\\n",
       "cluster                                                                 \n",
       "0.0                 1291.743697             9908.968487  1.064584e+08   \n",
       "1.0                  358.000000            11000.000000  1.376601e+07   \n",
       "2.0                  453.000000             7627.250000  1.251112e+07   \n",
       "3.0                  694.714933             7253.708384  4.871028e+07   \n",
       "4.0                  421.714286             5997.285714  3.482547e+07   \n",
       "\n",
       "         num_voted_users  cast_total_facebook_likes  facenumber_in_poster  \\\n",
       "cluster                                                                     \n",
       "0.0        174598.256303               15846.894958              1.327004   \n",
       "1.0        106111.000000               17627.000000              0.000000   \n",
       "2.0         95041.250000                9205.500000              0.000000   \n",
       "3.0         90346.900181               10706.244270              1.427234   \n",
       "4.0         41683.285714                7861.142857              1.714286   \n",
       "\n",
       "         num_user_for_reviews        budget   title_year  \\\n",
       "cluster                                                    \n",
       "0.0                547.970588  9.054146e+07  2005.682203   \n",
       "1.0                181.000000  1.500000e+07  2011.000000   \n",
       "2.0                316.750000  1.887500e+07  2004.500000   \n",
       "3.0                283.993652  4.183053e+07  2002.979636   \n",
       "4.0                214.142857  2.200000e+07  1996.285714   \n",
       "\n",
       "         actor_2_facebook_likes  imdb_score  aspect_ratio  \\\n",
       "cluster                                                     \n",
       "0.0                 3224.306723    6.496008      2.213212   \n",
       "1.0                 5000.000000    7.000000      2.350000   \n",
       "2.0                  783.500000    7.025000      2.225000   \n",
       "3.0                 1829.580012    6.426960      2.222464   \n",
       "4.0                  818.285714    6.357143      1.982857   \n",
       "\n",
       "         movie_facebook_likes  \n",
       "cluster                        \n",
       "0.0              16471.331933  \n",
       "1.0              49000.000000  \n",
       "2.0               4000.000000  \n",
       "3.0               7852.703860  \n",
       "4.0               2592.857143  "
      ]
     },
     "execution_count": 284,
     "metadata": {},
     "output_type": "execute_result"
    }
   ],
   "source": [
    "df1.groupby('cluster').mean()"
   ]
  },
  {
   "cell_type": "markdown",
   "metadata": {
    "slideshow": {
     "slide_type": "slide"
    }
   },
   "source": [
    "### Hierarchical Clustering Analysis"
   ]
  },
  {
   "cell_type": "code",
   "execution_count": 228,
   "metadata": {
    "slideshow": {
     "slide_type": "subslide"
    }
   },
   "outputs": [
    {
     "data": {
      "text/plain": [
       "array([1, 1, 1, ..., 0, 0, 0], dtype=int64)"
      ]
     },
     "execution_count": 228,
     "metadata": {},
     "output_type": "execute_result"
    }
   ],
   "source": [
    "np.random.seed(1) # setting random seed to get the same results each time.\n",
    "\n",
    "agg= AgglomerativeClustering(n_clusters=4, linkage='ward').fit(X)\n",
    "agg.labels_"
   ]
  },
  {
   "cell_type": "code",
   "execution_count": 230,
   "metadata": {
    "slideshow": {
     "slide_type": "subslide"
    }
   },
   "outputs": [
    {
     "data": {
      "image/png": "[encoded data removed]",
      "text/plain": [
       "<Figure size 1152x576 with 1 Axes>"
      ]
     },
     "metadata": {
      "needs_background": "light"
     },
     "output_type": "display_data"
    }
   ],
   "source": [
    "plt.figure(figsize=(16,8))\n",
    "\n",
    "linkage_matrix = ward(X)\n",
    "dendrogram(linkage_matrix, orientation=\"top\")\n",
    "plt.tight_layout() # fixes margins"
   ]
  },
  {
   "cell_type": "code",
   "execution_count": 233,
   "metadata": {
    "slideshow": {
     "slide_type": "skip"
    }
   },
   "outputs": [
    {
     "data": {
      "text/html": [
       "<div>\n",
       "<style scoped>\n",
       "    .dataframe tbody tr th:only-of-type {\n",
       "        vertical-align: middle;\n",
       "    }\n",
       "\n",
       "    .dataframe tbody tr th {\n",
       "        vertical-align: top;\n",
       "    }\n",
       "\n",
       "    .dataframe thead th {\n",
       "        text-align: right;\n",
       "    }\n",
       "</style>\n",
       "<table border=\"1\" class=\"dataframe\">\n",
       "  <thead>\n",
       "    <tr style=\"text-align: right;\">\n",
       "      <th></th>\n",
       "      <th>cluster</th>\n",
       "    </tr>\n",
       "  </thead>\n",
       "  <tbody>\n",
       "    <tr>\n",
       "      <th>0</th>\n",
       "      <td>1</td>\n",
       "    </tr>\n",
       "    <tr>\n",
       "      <th>1</th>\n",
       "      <td>1</td>\n",
       "    </tr>\n",
       "    <tr>\n",
       "      <th>2</th>\n",
       "      <td>1</td>\n",
       "    </tr>\n",
       "    <tr>\n",
       "      <th>3</th>\n",
       "      <td>1</td>\n",
       "    </tr>\n",
       "    <tr>\n",
       "      <th>4</th>\n",
       "      <td>0</td>\n",
       "    </tr>\n",
       "  </tbody>\n",
       "</table>\n",
       "</div>"
      ],
      "text/plain": [
       "   cluster\n",
       "0        1\n",
       "1        1\n",
       "2        1\n",
       "3        1\n",
       "4        0"
      ]
     },
     "execution_count": 233,
     "metadata": {},
     "output_type": "execute_result"
    }
   ],
   "source": [
    "df3= pd.DataFrame(agg.labels_, columns = ['cluster'])\n",
    "df3.head()"
   ]
  },
  {
   "cell_type": "code",
   "execution_count": 234,
   "metadata": {
    "slideshow": {
     "slide_type": "skip"
    }
   },
   "outputs": [
    {
     "data": {
      "text/html": [
       "<div>\n",
       "<style scoped>\n",
       "    .dataframe tbody tr th:only-of-type {\n",
       "        vertical-align: middle;\n",
       "    }\n",
       "\n",
       "    .dataframe tbody tr th {\n",
       "        vertical-align: top;\n",
       "    }\n",
       "\n",
       "    .dataframe thead th {\n",
       "        text-align: right;\n",
       "    }\n",
       "</style>\n",
       "<table border=\"1\" class=\"dataframe\">\n",
       "  <thead>\n",
       "    <tr style=\"text-align: right;\">\n",
       "      <th></th>\n",
       "      <th>color</th>\n",
       "      <th>director_name</th>\n",
       "      <th>num_critic_for_reviews</th>\n",
       "      <th>duration</th>\n",
       "      <th>director_facebook_likes</th>\n",
       "      <th>actor_3_facebook_likes</th>\n",
       "      <th>actor_2_name</th>\n",
       "      <th>actor_1_facebook_likes</th>\n",
       "      <th>gross</th>\n",
       "      <th>genres</th>\n",
       "      <th>...</th>\n",
       "      <th>language</th>\n",
       "      <th>country</th>\n",
       "      <th>content_rating</th>\n",
       "      <th>budget</th>\n",
       "      <th>title_year</th>\n",
       "      <th>actor_2_facebook_likes</th>\n",
       "      <th>imdb_score</th>\n",
       "      <th>aspect_ratio</th>\n",
       "      <th>movie_facebook_likes</th>\n",
       "      <th>cluster</th>\n",
       "    </tr>\n",
       "  </thead>\n",
       "  <tbody>\n",
       "    <tr>\n",
       "      <th>0</th>\n",
       "      <td>Color</td>\n",
       "      <td>James Cameron</td>\n",
       "      <td>723.0</td>\n",
       "      <td>178.0</td>\n",
       "      <td>0.0</td>\n",
       "      <td>855.0</td>\n",
       "      <td>Joel David Moore</td>\n",
       "      <td>1000.0</td>\n",
       "      <td>760505847.0</td>\n",
       "      <td>Action|Adventure|Fantasy|Sci-Fi</td>\n",
       "      <td>...</td>\n",
       "      <td>English</td>\n",
       "      <td>USA</td>\n",
       "      <td>PG-13</td>\n",
       "      <td>237000000.0</td>\n",
       "      <td>2009.0</td>\n",
       "      <td>936.0</td>\n",
       "      <td>7.9</td>\n",
       "      <td>1.78</td>\n",
       "      <td>33000</td>\n",
       "      <td>1.0</td>\n",
       "    </tr>\n",
       "    <tr>\n",
       "      <th>1</th>\n",
       "      <td>Color</td>\n",
       "      <td>Gore Verbinski</td>\n",
       "      <td>302.0</td>\n",
       "      <td>169.0</td>\n",
       "      <td>563.0</td>\n",
       "      <td>1000.0</td>\n",
       "      <td>Orlando Bloom</td>\n",
       "      <td>40000.0</td>\n",
       "      <td>309404152.0</td>\n",
       "      <td>Action|Adventure|Fantasy</td>\n",
       "      <td>...</td>\n",
       "      <td>English</td>\n",
       "      <td>USA</td>\n",
       "      <td>PG-13</td>\n",
       "      <td>300000000.0</td>\n",
       "      <td>2007.0</td>\n",
       "      <td>5000.0</td>\n",
       "      <td>7.1</td>\n",
       "      <td>2.35</td>\n",
       "      <td>0</td>\n",
       "      <td>1.0</td>\n",
       "    </tr>\n",
       "    <tr>\n",
       "      <th>2</th>\n",
       "      <td>Color</td>\n",
       "      <td>Sam Mendes</td>\n",
       "      <td>602.0</td>\n",
       "      <td>148.0</td>\n",
       "      <td>0.0</td>\n",
       "      <td>161.0</td>\n",
       "      <td>Rory Kinnear</td>\n",
       "      <td>11000.0</td>\n",
       "      <td>200074175.0</td>\n",
       "      <td>Action|Adventure|Thriller</td>\n",
       "      <td>...</td>\n",
       "      <td>English</td>\n",
       "      <td>UK</td>\n",
       "      <td>PG-13</td>\n",
       "      <td>245000000.0</td>\n",
       "      <td>2015.0</td>\n",
       "      <td>393.0</td>\n",
       "      <td>6.8</td>\n",
       "      <td>2.35</td>\n",
       "      <td>85000</td>\n",
       "      <td>1.0</td>\n",
       "    </tr>\n",
       "    <tr>\n",
       "      <th>3</th>\n",
       "      <td>Color</td>\n",
       "      <td>Christopher Nolan</td>\n",
       "      <td>813.0</td>\n",
       "      <td>164.0</td>\n",
       "      <td>22000.0</td>\n",
       "      <td>23000.0</td>\n",
       "      <td>Christian Bale</td>\n",
       "      <td>27000.0</td>\n",
       "      <td>448130642.0</td>\n",
       "      <td>Action|Thriller</td>\n",
       "      <td>...</td>\n",
       "      <td>English</td>\n",
       "      <td>USA</td>\n",
       "      <td>PG-13</td>\n",
       "      <td>250000000.0</td>\n",
       "      <td>2012.0</td>\n",
       "      <td>23000.0</td>\n",
       "      <td>8.5</td>\n",
       "      <td>2.35</td>\n",
       "      <td>164000</td>\n",
       "      <td>1.0</td>\n",
       "    </tr>\n",
       "    <tr>\n",
       "      <th>4</th>\n",
       "      <td>NaN</td>\n",
       "      <td>Doug Walker</td>\n",
       "      <td>NaN</td>\n",
       "      <td>NaN</td>\n",
       "      <td>131.0</td>\n",
       "      <td>NaN</td>\n",
       "      <td>Rob Walker</td>\n",
       "      <td>131.0</td>\n",
       "      <td>NaN</td>\n",
       "      <td>Documentary</td>\n",
       "      <td>...</td>\n",
       "      <td>NaN</td>\n",
       "      <td>NaN</td>\n",
       "      <td>NaN</td>\n",
       "      <td>NaN</td>\n",
       "      <td>NaN</td>\n",
       "      <td>12.0</td>\n",
       "      <td>7.1</td>\n",
       "      <td>NaN</td>\n",
       "      <td>0</td>\n",
       "      <td>0.0</td>\n",
       "    </tr>\n",
       "  </tbody>\n",
       "</table>\n",
       "<p>5 rows × 29 columns</p>\n",
       "</div>"
      ],
      "text/plain": [
       "   color      director_name  num_critic_for_reviews  duration  \\\n",
       "0  Color      James Cameron                   723.0     178.0   \n",
       "1  Color     Gore Verbinski                   302.0     169.0   \n",
       "2  Color         Sam Mendes                   602.0     148.0   \n",
       "3  Color  Christopher Nolan                   813.0     164.0   \n",
       "4    NaN        Doug Walker                     NaN       NaN   \n",
       "\n",
       "   director_facebook_likes  actor_3_facebook_likes      actor_2_name  \\\n",
       "0                      0.0                   855.0  Joel David Moore   \n",
       "1                    563.0                  1000.0     Orlando Bloom   \n",
       "2                      0.0                   161.0      Rory Kinnear   \n",
       "3                  22000.0                 23000.0    Christian Bale   \n",
       "4                    131.0                     NaN        Rob Walker   \n",
       "\n",
       "   actor_1_facebook_likes        gross                           genres  ...  \\\n",
       "0                  1000.0  760505847.0  Action|Adventure|Fantasy|Sci-Fi  ...   \n",
       "1                 40000.0  309404152.0         Action|Adventure|Fantasy  ...   \n",
       "2                 11000.0  200074175.0        Action|Adventure|Thriller  ...   \n",
       "3                 27000.0  448130642.0                  Action|Thriller  ...   \n",
       "4                   131.0          NaN                      Documentary  ...   \n",
       "\n",
       "  language country  content_rating       budget title_year  \\\n",
       "0  English     USA           PG-13  237000000.0     2009.0   \n",
       "1  English     USA           PG-13  300000000.0     2007.0   \n",
       "2  English      UK           PG-13  245000000.0     2015.0   \n",
       "3  English     USA           PG-13  250000000.0     2012.0   \n",
       "4      NaN     NaN             NaN          NaN        NaN   \n",
       "\n",
       "   actor_2_facebook_likes imdb_score aspect_ratio  movie_facebook_likes  \\\n",
       "0                   936.0        7.9         1.78                 33000   \n",
       "1                  5000.0        7.1         2.35                     0   \n",
       "2                   393.0        6.8         2.35                 85000   \n",
       "3                 23000.0        8.5         2.35                164000   \n",
       "4                    12.0        7.1          NaN                     0   \n",
       "\n",
       "  cluster  \n",
       "0     1.0  \n",
       "1     1.0  \n",
       "2     1.0  \n",
       "3     1.0  \n",
       "4     0.0  \n",
       "\n",
       "[5 rows x 29 columns]"
      ]
     },
     "execution_count": 234,
     "metadata": {},
     "output_type": "execute_result"
    }
   ],
   "source": [
    "df1 = df.join(df3)\n",
    "df1.head()"
   ]
  },
  {
   "cell_type": "code",
   "execution_count": 235,
   "metadata": {
    "slideshow": {
     "slide_type": "subslide"
    }
   },
   "outputs": [
    {
     "data": {
      "text/html": [
       "<div>\n",
       "<style scoped>\n",
       "    .dataframe tbody tr th:only-of-type {\n",
       "        vertical-align: middle;\n",
       "    }\n",
       "\n",
       "    .dataframe tbody tr th {\n",
       "        vertical-align: top;\n",
       "    }\n",
       "\n",
       "    .dataframe thead th {\n",
       "        text-align: right;\n",
       "    }\n",
       "</style>\n",
       "<table border=\"1\" class=\"dataframe\">\n",
       "  <thead>\n",
       "    <tr style=\"text-align: right;\">\n",
       "      <th></th>\n",
       "      <th>num_critic_for_reviews</th>\n",
       "      <th>duration</th>\n",
       "      <th>director_facebook_likes</th>\n",
       "      <th>actor_3_facebook_likes</th>\n",
       "      <th>actor_1_facebook_likes</th>\n",
       "      <th>gross</th>\n",
       "      <th>num_voted_users</th>\n",
       "      <th>cast_total_facebook_likes</th>\n",
       "      <th>facenumber_in_poster</th>\n",
       "      <th>num_user_for_reviews</th>\n",
       "      <th>budget</th>\n",
       "      <th>title_year</th>\n",
       "      <th>actor_2_facebook_likes</th>\n",
       "      <th>imdb_score</th>\n",
       "      <th>aspect_ratio</th>\n",
       "      <th>movie_facebook_likes</th>\n",
       "    </tr>\n",
       "    <tr>\n",
       "      <th>cluster</th>\n",
       "      <th></th>\n",
       "      <th></th>\n",
       "      <th></th>\n",
       "      <th></th>\n",
       "      <th></th>\n",
       "      <th></th>\n",
       "      <th></th>\n",
       "      <th></th>\n",
       "      <th></th>\n",
       "      <th></th>\n",
       "      <th></th>\n",
       "      <th></th>\n",
       "      <th></th>\n",
       "      <th></th>\n",
       "      <th></th>\n",
       "      <th></th>\n",
       "    </tr>\n",
       "  </thead>\n",
       "  <tbody>\n",
       "    <tr>\n",
       "      <th>0.0</th>\n",
       "      <td>148.825023</td>\n",
       "      <td>109.327300</td>\n",
       "      <td>770.204000</td>\n",
       "      <td>694.200544</td>\n",
       "      <td>7299.079241</td>\n",
       "      <td>4.966212e+07</td>\n",
       "      <td>91622.547454</td>\n",
       "      <td>10761.435975</td>\n",
       "      <td>1.431071</td>\n",
       "      <td>286.816425</td>\n",
       "      <td>4.290296e+07</td>\n",
       "      <td>2003.022181</td>\n",
       "      <td>1844.316742</td>\n",
       "      <td>6.425218</td>\n",
       "      <td>2.214915</td>\n",
       "      <td>7844.483579</td>\n",
       "    </tr>\n",
       "    <tr>\n",
       "      <th>1.0</th>\n",
       "      <td>220.334029</td>\n",
       "      <td>116.624217</td>\n",
       "      <td>983.103376</td>\n",
       "      <td>1286.335417</td>\n",
       "      <td>9554.797917</td>\n",
       "      <td>9.990309e+07</td>\n",
       "      <td>164365.914583</td>\n",
       "      <td>15380.937500</td>\n",
       "      <td>1.305439</td>\n",
       "      <td>525.778706</td>\n",
       "      <td>8.288727e+07</td>\n",
       "      <td>2005.280591</td>\n",
       "      <td>3096.160417</td>\n",
       "      <td>6.506458</td>\n",
       "      <td>2.261353</td>\n",
       "      <td>16379.643750</td>\n",
       "    </tr>\n",
       "    <tr>\n",
       "      <th>2.0</th>\n",
       "      <td>154.500000</td>\n",
       "      <td>103.750000</td>\n",
       "      <td>108.250000</td>\n",
       "      <td>453.000000</td>\n",
       "      <td>7627.250000</td>\n",
       "      <td>1.251112e+07</td>\n",
       "      <td>95041.250000</td>\n",
       "      <td>9205.500000</td>\n",
       "      <td>0.000000</td>\n",
       "      <td>316.750000</td>\n",
       "      <td>1.887500e+07</td>\n",
       "      <td>2004.500000</td>\n",
       "      <td>783.500000</td>\n",
       "      <td>7.025000</td>\n",
       "      <td>2.225000</td>\n",
       "      <td>4000.000000</td>\n",
       "    </tr>\n",
       "    <tr>\n",
       "      <th>3.0</th>\n",
       "      <td>221.000000</td>\n",
       "      <td>107.000000</td>\n",
       "      <td>92.000000</td>\n",
       "      <td>358.000000</td>\n",
       "      <td>11000.000000</td>\n",
       "      <td>1.376601e+07</td>\n",
       "      <td>106111.000000</td>\n",
       "      <td>17627.000000</td>\n",
       "      <td>0.000000</td>\n",
       "      <td>181.000000</td>\n",
       "      <td>1.500000e+07</td>\n",
       "      <td>2011.000000</td>\n",
       "      <td>5000.000000</td>\n",
       "      <td>7.000000</td>\n",
       "      <td>2.350000</td>\n",
       "      <td>49000.000000</td>\n",
       "    </tr>\n",
       "  </tbody>\n",
       "</table>\n",
       "</div>"
      ],
      "text/plain": [
       "         num_critic_for_reviews    duration  director_facebook_likes  \\\n",
       "cluster                                                                \n",
       "0.0                  148.825023  109.327300               770.204000   \n",
       "1.0                  220.334029  116.624217               983.103376   \n",
       "2.0                  154.500000  103.750000               108.250000   \n",
       "3.0                  221.000000  107.000000                92.000000   \n",
       "\n",
       "         actor_3_facebook_likes  actor_1_facebook_likes         gross  \\\n",
       "cluster                                                                 \n",
       "0.0                  694.200544             7299.079241  4.966212e+07   \n",
       "1.0                 1286.335417             9554.797917  9.990309e+07   \n",
       "2.0                  453.000000             7627.250000  1.251112e+07   \n",
       "3.0                  358.000000            11000.000000  1.376601e+07   \n",
       "\n",
       "         num_voted_users  cast_total_facebook_likes  facenumber_in_poster  \\\n",
       "cluster                                                                     \n",
       "0.0         91622.547454               10761.435975              1.431071   \n",
       "1.0        164365.914583               15380.937500              1.305439   \n",
       "2.0         95041.250000                9205.500000              0.000000   \n",
       "3.0        106111.000000               17627.000000              0.000000   \n",
       "\n",
       "         num_user_for_reviews        budget   title_year  \\\n",
       "cluster                                                    \n",
       "0.0                286.816425  4.290296e+07  2003.022181   \n",
       "1.0                525.778706  8.288727e+07  2005.280591   \n",
       "2.0                316.750000  1.887500e+07  2004.500000   \n",
       "3.0                181.000000  1.500000e+07  2011.000000   \n",
       "\n",
       "         actor_2_facebook_likes  imdb_score  aspect_ratio  \\\n",
       "cluster                                                     \n",
       "0.0                 1844.316742    6.425218      2.214915   \n",
       "1.0                 3096.160417    6.506458      2.261353   \n",
       "2.0                  783.500000    7.025000      2.225000   \n",
       "3.0                 5000.000000    7.000000      2.350000   \n",
       "\n",
       "         movie_facebook_likes  \n",
       "cluster                        \n",
       "0.0               7844.483579  \n",
       "1.0              16379.643750  \n",
       "2.0               4000.000000  \n",
       "3.0              49000.000000  "
      ]
     },
     "execution_count": 235,
     "metadata": {},
     "output_type": "execute_result"
    }
   ],
   "source": [
    "df1.groupby('cluster').mean()"
   ]
  },
  {
   "cell_type": "code",
   "execution_count": 236,
   "metadata": {
    "slideshow": {
     "slide_type": "skip"
    }
   },
   "outputs": [
    {
     "data": {
      "text/plain": [
       "cluster\n",
       "0.0    3319\n",
       "1.0     480\n",
       "2.0       4\n",
       "3.0       1\n",
       "dtype: int64"
      ]
     },
     "execution_count": 236,
     "metadata": {},
     "output_type": "execute_result"
    }
   ],
   "source": [
    "df1.groupby('cluster').size()"
   ]
  },
  {
   "cell_type": "markdown",
   "metadata": {
    "slideshow": {
     "slide_type": "slide"
    }
   },
   "source": [
    "## 4. Findings "
   ]
  },
  {
   "cell_type": "markdown",
   "metadata": {
    "slideshow": {
     "slide_type": "subslide"
    }
   },
   "source": [
    "Regression Analysis \n",
    "- We can see that the most important features in this dadta set according to regression analysis are:\n",
    "    - Budget\n",
    "    - Gross\n",
    "    - Profit \n",
    "    - Duration\n",
    "    - Actor 2 facebook likes\n",
    "    - Cast total facebook likes \n",
    "   \n",
    "- The intital model showed a MSE of only 0.71 which indicates a a strong model \n",
    "- This same model only provided a variance of 35.8% which tells us that it only explains the same amount of variance in the data\n",
    "- Overall the intitaial model is not a good one\n",
    "- The statsmodels provided similar results\n",
    "- The first statsmodel model also only had an r squared value of 36% \n",
    "- The initial statsmodel was the best performing model \n",
    "- Each model following the original was progressively less accurate \n",
    "- This is due to the removal of statistically important features \n",
    "- Most of the features in this data set were considered important \n"
   ]
  },
  {
   "cell_type": "markdown",
   "metadata": {
    "slideshow": {
     "slide_type": "subslide"
    }
   },
   "source": [
    "Classification Analysis \n",
    "- The initial model used in this section was a decision tree classifier \n",
    "- In order for this model to function correctly it was neccesary to remove all categorical data that could not be feasibly turned into dummy variables \n",
    "- Examples of this are actor and director names \n",
    "- The decision tree classifier model yieled 100% accuracy\n",
    "- This is likely not to be 100% accurate in practice though \n",
    "- The next model used was logistic regression \n",
    "- This model did not perform well in comparison to the DTC \n",
    "- It is interesting to note that it was 0% accurate for predicting bad movies \n",
    "- As the quality of movie imporved, so did the model's accuracy \n",
    "- It was most succesful at predicting excellent quality movies \n",
    "- It had an overall accuracy of 67% \n"
   ]
  },
  {
   "cell_type": "markdown",
   "metadata": {
    "slideshow": {
     "slide_type": "subslide"
    }
   },
   "source": [
    "Clustering Analysis \n",
    "- The first method of clustering analysis used was K Means analysis \n",
    "- This method also required dropping the categorical variables which could not be converted into dummy variables \n",
    "\n",
    "Cluster Profiles (K Means) \n",
    "- [0] These movies tend to be longer and have a high number of critic reviews and a high number of likes on facebook for the director and lead actor \n",
    "- [1] These movies are most noted for having a very popular lead actor and are very popular on facebook as a whole. They also tend to be newer films. \n",
    "- [2] These movies are the shortest movies and are also the least popular among people on facebook but tend to be the highest rating on IMDB \n",
    "- [3] These movies are longer and have more likes for the director. They also are the third most popular on facebook \n",
    "- [4] These movies are short and have few critic reviews and have the least number of likes on facebook for the whole cast. This is the least popular category on IMDB \n",
    "\n",
    "Cluster Profiles (Hierarchical Analysis) \n",
    "- [0] This is the lowest rated cluster. These movies have a small popularity on facebook and an average number of users reviewing it \n",
    "- [1] These movies also tend to have a low IMDB score but are more popular on facebook and have a popular lead actor \n",
    "- [2] This is the highest rated cluster on IMDB but also have the lowest number of facebook likes. These movies are likely independant films \n",
    "- [3] These movies are also rated above average on IMDB but have the smallest budget and the most likes on facebook "
   ]
  },
  {
   "cell_type": "code",
   "execution_count": null,
   "metadata": {},
   "outputs": [],
   "source": []
  }
 ],
 "metadata": {
  "celltoolbar": "Slideshow",
  "kernelspec": {
   "display_name": "Python 3",
   "language": "python",
   "name": "python3"
  },
  "language_info": {
   "codemirror_mode": {
    "name": "ipython",
    "version": 3
   },
   "file_extension": ".py",
   "mimetype": "text/x-python",
   "name": "python",
   "nbconvert_exporter": "python",
   "pygments_lexer": "ipython3",
   "version": "3.7.3"
  }
 },
 "nbformat": 4,
 "nbformat_minor": 2
}
